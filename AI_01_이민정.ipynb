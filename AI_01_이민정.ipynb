{
  "nbformat": 4,
  "nbformat_minor": 0,
  "metadata": {
    "colab": {
      "name": "Session1_project.ipynb",
      "provenance": []
    },
    "kernelspec": {
      "name": "python3",
      "display_name": "Python 3"
    }
  },
  "cells": [
    {
      "cell_type": "markdown",
      "metadata": {
        "id": "zNuDL7Utq334"
      },
      "source": [
        "<img src='https://i.imgur.com/RDAD11M.png' width = '200' align = 'right'>\r\n",
        "\r\n",
        "## *DATA SCIENCE / SECTION 1 / PROJECT*\r\n",
        "\r\n",
        "---\r\n",
        "\r\n",
        "# ❓다음 분기에 어떤 게임을 설계해야 할까❓\r\n",
        "\r\n",
        "## 🏆 목표 : 매출이 높은 게임을 설계하자 🏆\r\n",
        "\r\n",
        "###Contents📝\r\n",
        "\r\n",
        "- 데이터 정리\r\n",
        "- 전체적인 선호도 및 트렌드 분석\r\n",
        "- 단위 게임당 특징 분석\r\n",
        "- 결론\r\n",
        "\r\n",
        "---"
      ]
    },
    {
      "cell_type": "markdown",
      "metadata": {
        "id": "kLiWUXsv3nRU"
      },
      "source": [
        "#👩‍💻 데이터 정리 시작!"
      ]
    },
    {
      "cell_type": "code",
      "metadata": {
        "id": "Lwrr4rR5ttwe"
      },
      "source": [
        "import pandas as pd\r\n",
        "import numpy as np\r\n",
        "import matplotlib.pyplot as plt\r\n",
        "import seaborn as sns\r\n",
        "import statsmodels.api as sm\r\n",
        "from sklearn.preprocessing import StandardScaler\r\n",
        "from statsmodels.formula.api import ols\r\n",
        "from scipy import stats\r\n",
        "from scipy.stats import chi2_contingency"
      ],
      "execution_count": 70,
      "outputs": []
    },
    {
      "cell_type": "code",
      "metadata": {
        "id": "psgQtniatx7t"
      },
      "source": [
        "df = pd.read_csv('https://ds-lecture-data.s3.ap-northeast-2.amazonaws.com/datasets/vgames2.csv', index_col = 0)\r\n",
        "#df.head()\r\n",
        "#df.shape\r\n",
        "#df.dtypes"
      ],
      "execution_count": 71,
      "outputs": []
    },
    {
      "cell_type": "markdown",
      "metadata": {
        "id": "LfLYnBNNl5lm"
      },
      "source": [
        "######✍️ Sales에서 K, M과 같은 단위들을 정리"
      ]
    },
    {
      "cell_type": "code",
      "metadata": {
        "id": "2tg-VFDCtzec",
        "colab": {
          "base_uri": "https://localhost:8080/"
        },
        "outputId": "2603ada3-ba3a-40d1-b214-18dd17d365ab"
      },
      "source": [
        "df['NA_Sales'] = pd.to_numeric(df.NA_Sales.str.translate(str.maketrans({'K':'e-3','M':''})))\r\n",
        "df['EU_Sales'] = pd.to_numeric(df.EU_Sales.str.translate(str.maketrans({'K':'e-3','M':''})))\r\n",
        "df['JP_Sales'] = pd.to_numeric(df.JP_Sales.str.translate(str.maketrans({'K':'e-3','M':''})))\r\n",
        "df['Other_Sales'] = pd.to_numeric(df.Other_Sales.str.translate(str.maketrans({'K':'e-3','M':''})))\r\n",
        "df.columns = ['Name', 'Platform', 'Year', 'Genre', 'Publisher', 'NA', 'EU', 'JP', 'Other']\r\n",
        "#df.head(15)\r\n",
        "#df.dtypes\r\n",
        "df.isna().sum()"
      ],
      "execution_count": 72,
      "outputs": [
        {
          "output_type": "execute_result",
          "data": {
            "text/plain": [
              "Name           0\n",
              "Platform       0\n",
              "Year         271\n",
              "Genre         50\n",
              "Publisher     58\n",
              "NA             0\n",
              "EU             0\n",
              "JP             0\n",
              "Other          0\n",
              "dtype: int64"
            ]
          },
          "metadata": {
            "tags": []
          },
          "execution_count": 72
        }
      ]
    },
    {
      "cell_type": "markdown",
      "metadata": {
        "id": "2JLdCzgFltdE"
      },
      "source": [
        "######✍️ 'Year'에서 2009 -> 9/ 1997 -> 97 같은 데이터들 정리"
      ]
    },
    {
      "cell_type": "code",
      "metadata": {
        "id": "2ZGxnPhWkpeJ"
      },
      "source": [
        "for i in range(len(df['Year'])):\r\n",
        "  if df.iloc[i, 2] < 100:\r\n",
        "    if df.iloc[i, 2] < 50:\r\n",
        "      df.iloc[i, 2] = df.iloc[i, 2] + 2000\r\n",
        "    else:\r\n",
        "      df.iloc[i, 2] = df.iloc[i, 2] + 1900"
      ],
      "execution_count": 73,
      "outputs": []
    },
    {
      "cell_type": "code",
      "metadata": {
        "colab": {
          "base_uri": "https://localhost:8080/",
          "height": 204
        },
        "id": "-jk1mFOPjTtV",
        "outputId": "855d0433-3bc5-4750-c18a-ac8cc6e25173"
      },
      "source": [
        "df.head()"
      ],
      "execution_count": 74,
      "outputs": [
        {
          "output_type": "execute_result",
          "data": {
            "text/html": [
              "<div>\n",
              "<style scoped>\n",
              "    .dataframe tbody tr th:only-of-type {\n",
              "        vertical-align: middle;\n",
              "    }\n",
              "\n",
              "    .dataframe tbody tr th {\n",
              "        vertical-align: top;\n",
              "    }\n",
              "\n",
              "    .dataframe thead th {\n",
              "        text-align: right;\n",
              "    }\n",
              "</style>\n",
              "<table border=\"1\" class=\"dataframe\">\n",
              "  <thead>\n",
              "    <tr style=\"text-align: right;\">\n",
              "      <th></th>\n",
              "      <th>Name</th>\n",
              "      <th>Platform</th>\n",
              "      <th>Year</th>\n",
              "      <th>Genre</th>\n",
              "      <th>Publisher</th>\n",
              "      <th>NA</th>\n",
              "      <th>EU</th>\n",
              "      <th>JP</th>\n",
              "      <th>Other</th>\n",
              "    </tr>\n",
              "  </thead>\n",
              "  <tbody>\n",
              "    <tr>\n",
              "      <th>1</th>\n",
              "      <td>Candace Kane's Candy Factory</td>\n",
              "      <td>DS</td>\n",
              "      <td>2008.0</td>\n",
              "      <td>Action</td>\n",
              "      <td>Destineer</td>\n",
              "      <td>0.04</td>\n",
              "      <td>0.00</td>\n",
              "      <td>0.00</td>\n",
              "      <td>0.00</td>\n",
              "    </tr>\n",
              "    <tr>\n",
              "      <th>2</th>\n",
              "      <td>The Munchables</td>\n",
              "      <td>Wii</td>\n",
              "      <td>2009.0</td>\n",
              "      <td>Action</td>\n",
              "      <td>Namco Bandai Games</td>\n",
              "      <td>0.17</td>\n",
              "      <td>0.00</td>\n",
              "      <td>0.00</td>\n",
              "      <td>0.01</td>\n",
              "    </tr>\n",
              "    <tr>\n",
              "      <th>3</th>\n",
              "      <td>Otome wa Oanesama Boku ni Koi Shiteru Portable</td>\n",
              "      <td>PSP</td>\n",
              "      <td>2010.0</td>\n",
              "      <td>Adventure</td>\n",
              "      <td>Alchemist</td>\n",
              "      <td>0.00</td>\n",
              "      <td>0.00</td>\n",
              "      <td>0.02</td>\n",
              "      <td>0.00</td>\n",
              "    </tr>\n",
              "    <tr>\n",
              "      <th>4</th>\n",
              "      <td>Deal or No Deal: Special Edition</td>\n",
              "      <td>DS</td>\n",
              "      <td>2010.0</td>\n",
              "      <td>Misc</td>\n",
              "      <td>Zoo Games</td>\n",
              "      <td>0.04</td>\n",
              "      <td>0.00</td>\n",
              "      <td>0.00</td>\n",
              "      <td>0.00</td>\n",
              "    </tr>\n",
              "    <tr>\n",
              "      <th>5</th>\n",
              "      <td>Ben 10 Ultimate Alien: Cosmic Destruction</td>\n",
              "      <td>PS3</td>\n",
              "      <td>2010.0</td>\n",
              "      <td>Platform</td>\n",
              "      <td>D3Publisher</td>\n",
              "      <td>0.12</td>\n",
              "      <td>0.09</td>\n",
              "      <td>0.00</td>\n",
              "      <td>0.04</td>\n",
              "    </tr>\n",
              "  </tbody>\n",
              "</table>\n",
              "</div>"
            ],
            "text/plain": [
              "                                             Name Platform  ...    JP Other\n",
              "1                    Candace Kane's Candy Factory       DS  ...  0.00  0.00\n",
              "2                                  The Munchables      Wii  ...  0.00  0.01\n",
              "3  Otome wa Oanesama Boku ni Koi Shiteru Portable      PSP  ...  0.02  0.00\n",
              "4                Deal or No Deal: Special Edition       DS  ...  0.00  0.00\n",
              "5       Ben 10 Ultimate Alien: Cosmic Destruction      PS3  ...  0.00  0.04\n",
              "\n",
              "[5 rows x 9 columns]"
            ]
          },
          "metadata": {
            "tags": []
          },
          "execution_count": 74
        }
      ]
    },
    {
      "cell_type": "markdown",
      "metadata": {
        "id": "_wWeoyML1Lq4"
      },
      "source": [
        "#####💡 다음 분기에 어떤 게임을 설계해야 할까 하는 고민으로 시작한 만큼, 매출을 극대화 할 수 있는 게임 장르, 플랫폼에 초점을 두고 분석을 진행 하였습니다. 그래서 데이터 처리하는 과정에서 제작한 회사의 부재는 Unknown으로 처리했습니다. 잘못 입력된 플랫폼 또한 그 수가 적다고 판단하여 Unknown으로 처리했습니다. 또, 출시한 연도, 장르의 부재는 분석 과정 중 의미가 큰 데이터로 임의의 값을 넣으면 왜곡이 있을 수 있다는 판단하였습니다. 그리고 그 비율이 크지 않아 drop시켰습니다. "
      ]
    },
    {
      "cell_type": "markdown",
      "metadata": {
        "id": "NqgK2w-Ml-qv"
      },
      "source": [
        "######✍️ 'Publisher', 'platform'에서 오류로 보이는 데이터 -> Unknown처리 및 중요한 요소인 'Year' & 'Genre' NaN값 drop"
      ]
    },
    {
      "cell_type": "code",
      "metadata": {
        "id": "p9lx1G_3t67F"
      },
      "source": [
        "df['Publisher'].fillna(value = 'Unknown', inplace = True)\r\n",
        "df['Platform'] = df['Platform'].replace(['2600'],'Unknown')\r\n",
        "df = df.dropna()\r\n",
        "df.Year = df.Year.astype(int)"
      ],
      "execution_count": 75,
      "outputs": []
    },
    {
      "cell_type": "code",
      "metadata": {
        "colab": {
          "base_uri": "https://localhost:8080/",
          "height": 204
        },
        "id": "Ok1j8jZQk-75",
        "outputId": "948fbe8a-b1c0-4246-f486-861c04fc430d"
      },
      "source": [
        "df.head()"
      ],
      "execution_count": 76,
      "outputs": [
        {
          "output_type": "execute_result",
          "data": {
            "text/html": [
              "<div>\n",
              "<style scoped>\n",
              "    .dataframe tbody tr th:only-of-type {\n",
              "        vertical-align: middle;\n",
              "    }\n",
              "\n",
              "    .dataframe tbody tr th {\n",
              "        vertical-align: top;\n",
              "    }\n",
              "\n",
              "    .dataframe thead th {\n",
              "        text-align: right;\n",
              "    }\n",
              "</style>\n",
              "<table border=\"1\" class=\"dataframe\">\n",
              "  <thead>\n",
              "    <tr style=\"text-align: right;\">\n",
              "      <th></th>\n",
              "      <th>Name</th>\n",
              "      <th>Platform</th>\n",
              "      <th>Year</th>\n",
              "      <th>Genre</th>\n",
              "      <th>Publisher</th>\n",
              "      <th>NA</th>\n",
              "      <th>EU</th>\n",
              "      <th>JP</th>\n",
              "      <th>Other</th>\n",
              "    </tr>\n",
              "  </thead>\n",
              "  <tbody>\n",
              "    <tr>\n",
              "      <th>1</th>\n",
              "      <td>Candace Kane's Candy Factory</td>\n",
              "      <td>DS</td>\n",
              "      <td>2008</td>\n",
              "      <td>Action</td>\n",
              "      <td>Destineer</td>\n",
              "      <td>0.04</td>\n",
              "      <td>0.00</td>\n",
              "      <td>0.00</td>\n",
              "      <td>0.00</td>\n",
              "    </tr>\n",
              "    <tr>\n",
              "      <th>2</th>\n",
              "      <td>The Munchables</td>\n",
              "      <td>Wii</td>\n",
              "      <td>2009</td>\n",
              "      <td>Action</td>\n",
              "      <td>Namco Bandai Games</td>\n",
              "      <td>0.17</td>\n",
              "      <td>0.00</td>\n",
              "      <td>0.00</td>\n",
              "      <td>0.01</td>\n",
              "    </tr>\n",
              "    <tr>\n",
              "      <th>3</th>\n",
              "      <td>Otome wa Oanesama Boku ni Koi Shiteru Portable</td>\n",
              "      <td>PSP</td>\n",
              "      <td>2010</td>\n",
              "      <td>Adventure</td>\n",
              "      <td>Alchemist</td>\n",
              "      <td>0.00</td>\n",
              "      <td>0.00</td>\n",
              "      <td>0.02</td>\n",
              "      <td>0.00</td>\n",
              "    </tr>\n",
              "    <tr>\n",
              "      <th>4</th>\n",
              "      <td>Deal or No Deal: Special Edition</td>\n",
              "      <td>DS</td>\n",
              "      <td>2010</td>\n",
              "      <td>Misc</td>\n",
              "      <td>Zoo Games</td>\n",
              "      <td>0.04</td>\n",
              "      <td>0.00</td>\n",
              "      <td>0.00</td>\n",
              "      <td>0.00</td>\n",
              "    </tr>\n",
              "    <tr>\n",
              "      <th>5</th>\n",
              "      <td>Ben 10 Ultimate Alien: Cosmic Destruction</td>\n",
              "      <td>PS3</td>\n",
              "      <td>2010</td>\n",
              "      <td>Platform</td>\n",
              "      <td>D3Publisher</td>\n",
              "      <td>0.12</td>\n",
              "      <td>0.09</td>\n",
              "      <td>0.00</td>\n",
              "      <td>0.04</td>\n",
              "    </tr>\n",
              "  </tbody>\n",
              "</table>\n",
              "</div>"
            ],
            "text/plain": [
              "                                             Name Platform  ...    JP Other\n",
              "1                    Candace Kane's Candy Factory       DS  ...  0.00  0.00\n",
              "2                                  The Munchables      Wii  ...  0.00  0.01\n",
              "3  Otome wa Oanesama Boku ni Koi Shiteru Portable      PSP  ...  0.02  0.00\n",
              "4                Deal or No Deal: Special Edition       DS  ...  0.00  0.00\n",
              "5       Ben 10 Ultimate Alien: Cosmic Destruction      PS3  ...  0.00  0.04\n",
              "\n",
              "[5 rows x 9 columns]"
            ]
          },
          "metadata": {
            "tags": []
          },
          "execution_count": 76
        }
      ]
    },
    {
      "cell_type": "code",
      "metadata": {
        "id": "b0IlyNHGt9EE",
        "colab": {
          "base_uri": "https://localhost:8080/"
        },
        "outputId": "4fa2da76-2000-41dc-f2d1-e3699cc37ba4"
      },
      "source": [
        "df.isna().sum().sum()\r\n",
        "#df.dtypes"
      ],
      "execution_count": 77,
      "outputs": [
        {
          "output_type": "execute_result",
          "data": {
            "text/plain": [
              "0"
            ]
          },
          "metadata": {
            "tags": []
          },
          "execution_count": 77
        }
      ]
    },
    {
      "cell_type": "markdown",
      "metadata": {
        "id": "1VEfHImT3f2j"
      },
      "source": [
        "#✍️ 데이터 정리 완료!"
      ]
    },
    {
      "cell_type": "code",
      "metadata": {
        "colab": {
          "base_uri": "https://localhost:8080/",
          "height": 0
        },
        "id": "SEpF4OCte0IP",
        "outputId": "e9a18dce-5818-4fda-9c75-72c95ce119b9"
      },
      "source": [
        "df.head()"
      ],
      "execution_count": 78,
      "outputs": [
        {
          "output_type": "execute_result",
          "data": {
            "text/html": [
              "<div>\n",
              "<style scoped>\n",
              "    .dataframe tbody tr th:only-of-type {\n",
              "        vertical-align: middle;\n",
              "    }\n",
              "\n",
              "    .dataframe tbody tr th {\n",
              "        vertical-align: top;\n",
              "    }\n",
              "\n",
              "    .dataframe thead th {\n",
              "        text-align: right;\n",
              "    }\n",
              "</style>\n",
              "<table border=\"1\" class=\"dataframe\">\n",
              "  <thead>\n",
              "    <tr style=\"text-align: right;\">\n",
              "      <th></th>\n",
              "      <th>Name</th>\n",
              "      <th>Platform</th>\n",
              "      <th>Year</th>\n",
              "      <th>Genre</th>\n",
              "      <th>Publisher</th>\n",
              "      <th>NA</th>\n",
              "      <th>EU</th>\n",
              "      <th>JP</th>\n",
              "      <th>Other</th>\n",
              "    </tr>\n",
              "  </thead>\n",
              "  <tbody>\n",
              "    <tr>\n",
              "      <th>1</th>\n",
              "      <td>Candace Kane's Candy Factory</td>\n",
              "      <td>DS</td>\n",
              "      <td>2008</td>\n",
              "      <td>Action</td>\n",
              "      <td>Destineer</td>\n",
              "      <td>0.04</td>\n",
              "      <td>0.00</td>\n",
              "      <td>0.00</td>\n",
              "      <td>0.00</td>\n",
              "    </tr>\n",
              "    <tr>\n",
              "      <th>2</th>\n",
              "      <td>The Munchables</td>\n",
              "      <td>Wii</td>\n",
              "      <td>2009</td>\n",
              "      <td>Action</td>\n",
              "      <td>Namco Bandai Games</td>\n",
              "      <td>0.17</td>\n",
              "      <td>0.00</td>\n",
              "      <td>0.00</td>\n",
              "      <td>0.01</td>\n",
              "    </tr>\n",
              "    <tr>\n",
              "      <th>3</th>\n",
              "      <td>Otome wa Oanesama Boku ni Koi Shiteru Portable</td>\n",
              "      <td>PSP</td>\n",
              "      <td>2010</td>\n",
              "      <td>Adventure</td>\n",
              "      <td>Alchemist</td>\n",
              "      <td>0.00</td>\n",
              "      <td>0.00</td>\n",
              "      <td>0.02</td>\n",
              "      <td>0.00</td>\n",
              "    </tr>\n",
              "    <tr>\n",
              "      <th>4</th>\n",
              "      <td>Deal or No Deal: Special Edition</td>\n",
              "      <td>DS</td>\n",
              "      <td>2010</td>\n",
              "      <td>Misc</td>\n",
              "      <td>Zoo Games</td>\n",
              "      <td>0.04</td>\n",
              "      <td>0.00</td>\n",
              "      <td>0.00</td>\n",
              "      <td>0.00</td>\n",
              "    </tr>\n",
              "    <tr>\n",
              "      <th>5</th>\n",
              "      <td>Ben 10 Ultimate Alien: Cosmic Destruction</td>\n",
              "      <td>PS3</td>\n",
              "      <td>2010</td>\n",
              "      <td>Platform</td>\n",
              "      <td>D3Publisher</td>\n",
              "      <td>0.12</td>\n",
              "      <td>0.09</td>\n",
              "      <td>0.00</td>\n",
              "      <td>0.04</td>\n",
              "    </tr>\n",
              "  </tbody>\n",
              "</table>\n",
              "</div>"
            ],
            "text/plain": [
              "                                             Name Platform  ...    JP Other\n",
              "1                    Candace Kane's Candy Factory       DS  ...  0.00  0.00\n",
              "2                                  The Munchables      Wii  ...  0.00  0.01\n",
              "3  Otome wa Oanesama Boku ni Koi Shiteru Portable      PSP  ...  0.02  0.00\n",
              "4                Deal or No Deal: Special Edition       DS  ...  0.00  0.00\n",
              "5       Ben 10 Ultimate Alien: Cosmic Destruction      PS3  ...  0.00  0.04\n",
              "\n",
              "[5 rows x 9 columns]"
            ]
          },
          "metadata": {
            "tags": []
          },
          "execution_count": 78
        }
      ]
    },
    {
      "cell_type": "markdown",
      "metadata": {
        "id": "NYVCS4Gdlddx"
      },
      "source": [
        "#💰 총 매출을 지표로 지역별, 연도별 게임 트렌드 알아보기 💰\r\n",
        "\r\n",
        "#####👉 전체적인 선호도를 보는 총 매출을 이용했다."
      ]
    },
    {
      "cell_type": "markdown",
      "metadata": {
        "id": "VKK-NNWwYpEU"
      },
      "source": [
        "# ❓지역에 따라서 선호하는 게임 장르가 다를까❓"
      ]
    },
    {
      "cell_type": "markdown",
      "metadata": {
        "id": "QLL4pqJkjJ_X"
      },
      "source": [
        "#### ✍️ 선호하는 게임의 장르를 알아보기 위해서는 각 지역 총매출에서 장르별 게임이 차지하는 percentage를 비교하면 좋다고 생각했다.\r\n",
        "\r\n",
        "#####👉 Percentage를 알기 위해서 계산해서 넣음"
      ]
    },
    {
      "cell_type": "code",
      "metadata": {
        "colab": {
          "base_uri": "https://localhost:8080/",
          "height": 0
        },
        "id": "XNiCzilggGTZ",
        "outputId": "f0446239-0ba6-4ee9-8994-7fcda97ff7bc"
      },
      "source": [
        "df1 = df.groupby(by = ['Genre'], as_index = False).sum()\r\n",
        "df1 = df1.drop('Year', axis = 1)\r\n",
        "df2 = pd.DataFrame(index = range(0, 12), columns = ['NA_percent','EU_percent', 'JP_percent', 'Other_percent'])\r\n",
        "df2 = df2.fillna(0)\r\n",
        "for i in np.arange(1, 5):\r\n",
        "  a = df1.iloc[:, i].sum()\r\n",
        "  for m in np.arange(0, len(df2)):\r\n",
        "    df2.iloc[m, i-1] = df1.iloc[m, i]*100/a\r\n",
        "df3 = pd.concat([df1['Genre'], df2], axis = 1)\r\n",
        "df3.head()"
      ],
      "execution_count": 79,
      "outputs": [
        {
          "output_type": "execute_result",
          "data": {
            "text/html": [
              "<div>\n",
              "<style scoped>\n",
              "    .dataframe tbody tr th:only-of-type {\n",
              "        vertical-align: middle;\n",
              "    }\n",
              "\n",
              "    .dataframe tbody tr th {\n",
              "        vertical-align: top;\n",
              "    }\n",
              "\n",
              "    .dataframe thead th {\n",
              "        text-align: right;\n",
              "    }\n",
              "</style>\n",
              "<table border=\"1\" class=\"dataframe\">\n",
              "  <thead>\n",
              "    <tr style=\"text-align: right;\">\n",
              "      <th></th>\n",
              "      <th>Genre</th>\n",
              "      <th>NA_percent</th>\n",
              "      <th>EU_percent</th>\n",
              "      <th>JP_percent</th>\n",
              "      <th>Other_percent</th>\n",
              "    </tr>\n",
              "  </thead>\n",
              "  <tbody>\n",
              "    <tr>\n",
              "      <th>0</th>\n",
              "      <td>Action</td>\n",
              "      <td>19.912262</td>\n",
              "      <td>21.437396</td>\n",
              "      <td>12.317723</td>\n",
              "      <td>23.483988</td>\n",
              "    </tr>\n",
              "    <tr>\n",
              "      <th>1</th>\n",
              "      <td>Adventure</td>\n",
              "      <td>2.363187</td>\n",
              "      <td>2.659015</td>\n",
              "      <td>4.081263</td>\n",
              "      <td>2.131543</td>\n",
              "    </tr>\n",
              "    <tr>\n",
              "      <th>2</th>\n",
              "      <td>Fighting</td>\n",
              "      <td>5.109186</td>\n",
              "      <td>4.169449</td>\n",
              "      <td>6.853754</td>\n",
              "      <td>4.614089</td>\n",
              "    </tr>\n",
              "    <tr>\n",
              "      <th>3</th>\n",
              "      <td>Misc</td>\n",
              "      <td>9.281398</td>\n",
              "      <td>8.772955</td>\n",
              "      <td>8.193988</td>\n",
              "      <td>9.284338</td>\n",
              "    </tr>\n",
              "    <tr>\n",
              "      <th>4</th>\n",
              "      <td>Platform</td>\n",
              "      <td>10.326886</td>\n",
              "      <td>8.374374</td>\n",
              "      <td>10.266474</td>\n",
              "      <td>6.566939</td>\n",
              "    </tr>\n",
              "  </tbody>\n",
              "</table>\n",
              "</div>"
            ],
            "text/plain": [
              "       Genre  NA_percent  EU_percent  JP_percent  Other_percent\n",
              "0     Action   19.912262   21.437396   12.317723      23.483988\n",
              "1  Adventure    2.363187    2.659015    4.081263       2.131543\n",
              "2   Fighting    5.109186    4.169449    6.853754       4.614089\n",
              "3       Misc    9.281398    8.772955    8.193988       9.284338\n",
              "4   Platform   10.326886    8.374374   10.266474       6.566939"
            ]
          },
          "metadata": {
            "tags": []
          },
          "execution_count": 79
        }
      ]
    },
    {
      "cell_type": "code",
      "metadata": {
        "colab": {
          "base_uri": "https://localhost:8080/",
          "height": 0
        },
        "id": "CiK_zlMPZXZv",
        "outputId": "f7273800-e0db-4dd0-e5fd-6dc64ee963b8"
      },
      "source": [
        "df_melt3 = df3.melt(id_vars = 'Genre', value_vars = ['NA_percent', 'EU_percent', 'JP_percent', 'Other_percent'])\r\n",
        "df_melt3.columns = ['Genre', 'Country', 'Sales_percent']\r\n",
        "df_melt3.head()"
      ],
      "execution_count": 80,
      "outputs": [
        {
          "output_type": "execute_result",
          "data": {
            "text/html": [
              "<div>\n",
              "<style scoped>\n",
              "    .dataframe tbody tr th:only-of-type {\n",
              "        vertical-align: middle;\n",
              "    }\n",
              "\n",
              "    .dataframe tbody tr th {\n",
              "        vertical-align: top;\n",
              "    }\n",
              "\n",
              "    .dataframe thead th {\n",
              "        text-align: right;\n",
              "    }\n",
              "</style>\n",
              "<table border=\"1\" class=\"dataframe\">\n",
              "  <thead>\n",
              "    <tr style=\"text-align: right;\">\n",
              "      <th></th>\n",
              "      <th>Genre</th>\n",
              "      <th>Country</th>\n",
              "      <th>Sales_percent</th>\n",
              "    </tr>\n",
              "  </thead>\n",
              "  <tbody>\n",
              "    <tr>\n",
              "      <th>0</th>\n",
              "      <td>Action</td>\n",
              "      <td>NA_percent</td>\n",
              "      <td>19.912262</td>\n",
              "    </tr>\n",
              "    <tr>\n",
              "      <th>1</th>\n",
              "      <td>Adventure</td>\n",
              "      <td>NA_percent</td>\n",
              "      <td>2.363187</td>\n",
              "    </tr>\n",
              "    <tr>\n",
              "      <th>2</th>\n",
              "      <td>Fighting</td>\n",
              "      <td>NA_percent</td>\n",
              "      <td>5.109186</td>\n",
              "    </tr>\n",
              "    <tr>\n",
              "      <th>3</th>\n",
              "      <td>Misc</td>\n",
              "      <td>NA_percent</td>\n",
              "      <td>9.281398</td>\n",
              "    </tr>\n",
              "    <tr>\n",
              "      <th>4</th>\n",
              "      <td>Platform</td>\n",
              "      <td>NA_percent</td>\n",
              "      <td>10.326886</td>\n",
              "    </tr>\n",
              "  </tbody>\n",
              "</table>\n",
              "</div>"
            ],
            "text/plain": [
              "       Genre     Country  Sales_percent\n",
              "0     Action  NA_percent      19.912262\n",
              "1  Adventure  NA_percent       2.363187\n",
              "2   Fighting  NA_percent       5.109186\n",
              "3       Misc  NA_percent       9.281398\n",
              "4   Platform  NA_percent      10.326886"
            ]
          },
          "metadata": {
            "tags": []
          },
          "execution_count": 80
        }
      ]
    },
    {
      "cell_type": "code",
      "metadata": {
        "colab": {
          "base_uri": "https://localhost:8080/",
          "height": 0
        },
        "id": "Devah7RtXr2u",
        "outputId": "a92f98c3-d24e-440e-a99a-1930730ae8dc"
      },
      "source": [
        "g = sns.FacetGrid(data = df_melt3, col = 'Genre', palette = 'pastel', height = 3, col_wrap = 4)\r\n",
        "\r\n",
        "fig = plt.gcf()\r\n",
        "\r\n",
        "fig.set_size_inches(10, 8)\r\n",
        "\r\n",
        "g.map_dataframe(\r\n",
        "    sns.barplot,\r\n",
        "    x = 'Sales_percent',\r\n",
        "    y = 'Country',\r\n",
        "    hue = 'Country',\r\n",
        "    data = df_melt3,\r\n",
        "    palette = 'pastel',\r\n",
        "    dodge = False,\r\n",
        "    )\r\n",
        "g.add_legend();"
      ],
      "execution_count": 81,
      "outputs": [
        {
          "output_type": "display_data",
          "data": {
            "image/png": "[encoded data removed]",
            "text/plain": [
              "<Figure size 827.375x576 with 12 Axes>"
            ]
          },
          "metadata": {
            "tags": [],
            "needs_background": "light"
          }
        }
      ]
    },
    {
      "cell_type": "markdown",
      "metadata": {
        "id": "tnY0d0I5m69m"
      },
      "source": [
        "######✍️ 다른 나라들의 게임 장르별 선호도는 비슷한데, 유독 일본에서 Role-Playing을 선호하는 경향을 보임 -> 직관적으로"
      ]
    },
    {
      "cell_type": "markdown",
      "metadata": {
        "id": "0clOWK6GICm0"
      },
      "source": [
        "#✍️ Two-way ANOVA TEST 시작\r\n",
        "\r\n",
        "####✍️ 통계적인 근거를 얻기위해 ANOVA TEST를 채택, 진행"
      ]
    },
    {
      "cell_type": "markdown",
      "metadata": {
        "id": "ANoYrtmvWnQj"
      },
      "source": [
        "###### ✍️ ANOVA TEST를 위해 데이터 정규화 작업"
      ]
    },
    {
      "cell_type": "code",
      "metadata": {
        "colab": {
          "base_uri": "https://localhost:8080/",
          "height": 0
        },
        "id": "4WNouPK_AjwN",
        "outputId": "43fa1dfd-aac0-41a5-f4fa-0969e5b0bd90"
      },
      "source": [
        "df_test2 = df\r\n",
        "df_test2 = df_test2.drop('Name', axis = 1)\r\n",
        "df_test2 = df_test2.drop('Year', axis = 1)\r\n",
        "df_test2 = df_test2.drop('Platform', axis = 1)\r\n",
        "df_test2 = df_test2.drop('Publisher', axis = 1)\r\n",
        "df_test2.head()"
      ],
      "execution_count": 82,
      "outputs": [
        {
          "output_type": "execute_result",
          "data": {
            "text/html": [
              "<div>\n",
              "<style scoped>\n",
              "    .dataframe tbody tr th:only-of-type {\n",
              "        vertical-align: middle;\n",
              "    }\n",
              "\n",
              "    .dataframe tbody tr th {\n",
              "        vertical-align: top;\n",
              "    }\n",
              "\n",
              "    .dataframe thead th {\n",
              "        text-align: right;\n",
              "    }\n",
              "</style>\n",
              "<table border=\"1\" class=\"dataframe\">\n",
              "  <thead>\n",
              "    <tr style=\"text-align: right;\">\n",
              "      <th></th>\n",
              "      <th>Genre</th>\n",
              "      <th>NA</th>\n",
              "      <th>EU</th>\n",
              "      <th>JP</th>\n",
              "      <th>Other</th>\n",
              "    </tr>\n",
              "  </thead>\n",
              "  <tbody>\n",
              "    <tr>\n",
              "      <th>1</th>\n",
              "      <td>Action</td>\n",
              "      <td>0.04</td>\n",
              "      <td>0.00</td>\n",
              "      <td>0.00</td>\n",
              "      <td>0.00</td>\n",
              "    </tr>\n",
              "    <tr>\n",
              "      <th>2</th>\n",
              "      <td>Action</td>\n",
              "      <td>0.17</td>\n",
              "      <td>0.00</td>\n",
              "      <td>0.00</td>\n",
              "      <td>0.01</td>\n",
              "    </tr>\n",
              "    <tr>\n",
              "      <th>3</th>\n",
              "      <td>Adventure</td>\n",
              "      <td>0.00</td>\n",
              "      <td>0.00</td>\n",
              "      <td>0.02</td>\n",
              "      <td>0.00</td>\n",
              "    </tr>\n",
              "    <tr>\n",
              "      <th>4</th>\n",
              "      <td>Misc</td>\n",
              "      <td>0.04</td>\n",
              "      <td>0.00</td>\n",
              "      <td>0.00</td>\n",
              "      <td>0.00</td>\n",
              "    </tr>\n",
              "    <tr>\n",
              "      <th>5</th>\n",
              "      <td>Platform</td>\n",
              "      <td>0.12</td>\n",
              "      <td>0.09</td>\n",
              "      <td>0.00</td>\n",
              "      <td>0.04</td>\n",
              "    </tr>\n",
              "  </tbody>\n",
              "</table>\n",
              "</div>"
            ],
            "text/plain": [
              "       Genre    NA    EU    JP  Other\n",
              "1     Action  0.04  0.00  0.00   0.00\n",
              "2     Action  0.17  0.00  0.00   0.01\n",
              "3  Adventure  0.00  0.00  0.02   0.00\n",
              "4       Misc  0.04  0.00  0.00   0.00\n",
              "5   Platform  0.12  0.09  0.00   0.04"
            ]
          },
          "metadata": {
            "tags": []
          },
          "execution_count": 82
        }
      ]
    },
    {
      "cell_type": "code",
      "metadata": {
        "colab": {
          "base_uri": "https://localhost:8080/"
        },
        "id": "HwhVF2EXFGz6",
        "outputId": "55cb690a-ee9b-4b9d-e920-4e2214e7ebea"
      },
      "source": [
        "index = df_test2['Genre']\r\n",
        "index.reset_index\r\n",
        "index.head()"
      ],
      "execution_count": 83,
      "outputs": [
        {
          "output_type": "execute_result",
          "data": {
            "text/plain": [
              "1       Action\n",
              "2       Action\n",
              "3    Adventure\n",
              "4         Misc\n",
              "5     Platform\n",
              "Name: Genre, dtype: object"
            ]
          },
          "metadata": {
            "tags": []
          },
          "execution_count": 83
        }
      ]
    },
    {
      "cell_type": "code",
      "metadata": {
        "colab": {
          "base_uri": "https://localhost:8080/",
          "height": 0
        },
        "id": "-8eCTGZSHMt5",
        "outputId": "4dcf1015-4a32-4d8f-d691-885f2a8b29e3"
      },
      "source": [
        "index = pd.DataFrame(index)\r\n",
        "index.reset_index(inplace = True, col_level = 0, drop = True)\r\n",
        "index.head()"
      ],
      "execution_count": 84,
      "outputs": [
        {
          "output_type": "execute_result",
          "data": {
            "text/html": [
              "<div>\n",
              "<style scoped>\n",
              "    .dataframe tbody tr th:only-of-type {\n",
              "        vertical-align: middle;\n",
              "    }\n",
              "\n",
              "    .dataframe tbody tr th {\n",
              "        vertical-align: top;\n",
              "    }\n",
              "\n",
              "    .dataframe thead th {\n",
              "        text-align: right;\n",
              "    }\n",
              "</style>\n",
              "<table border=\"1\" class=\"dataframe\">\n",
              "  <thead>\n",
              "    <tr style=\"text-align: right;\">\n",
              "      <th></th>\n",
              "      <th>Genre</th>\n",
              "    </tr>\n",
              "  </thead>\n",
              "  <tbody>\n",
              "    <tr>\n",
              "      <th>0</th>\n",
              "      <td>Action</td>\n",
              "    </tr>\n",
              "    <tr>\n",
              "      <th>1</th>\n",
              "      <td>Action</td>\n",
              "    </tr>\n",
              "    <tr>\n",
              "      <th>2</th>\n",
              "      <td>Adventure</td>\n",
              "    </tr>\n",
              "    <tr>\n",
              "      <th>3</th>\n",
              "      <td>Misc</td>\n",
              "    </tr>\n",
              "    <tr>\n",
              "      <th>4</th>\n",
              "      <td>Platform</td>\n",
              "    </tr>\n",
              "  </tbody>\n",
              "</table>\n",
              "</div>"
            ],
            "text/plain": [
              "       Genre\n",
              "0     Action\n",
              "1     Action\n",
              "2  Adventure\n",
              "3       Misc\n",
              "4   Platform"
            ]
          },
          "metadata": {
            "tags": []
          },
          "execution_count": 84
        }
      ]
    },
    {
      "cell_type": "code",
      "metadata": {
        "colab": {
          "base_uri": "https://localhost:8080/",
          "height": 0
        },
        "id": "EpWPztr3G3gy",
        "outputId": "53758e06-5b55-4f8b-d12e-4dbf7fa2e9f3"
      },
      "source": [
        "df_test2 = df_test2.set_index('Genre')\r\n",
        "df_test2.head()"
      ],
      "execution_count": 85,
      "outputs": [
        {
          "output_type": "execute_result",
          "data": {
            "text/html": [
              "<div>\n",
              "<style scoped>\n",
              "    .dataframe tbody tr th:only-of-type {\n",
              "        vertical-align: middle;\n",
              "    }\n",
              "\n",
              "    .dataframe tbody tr th {\n",
              "        vertical-align: top;\n",
              "    }\n",
              "\n",
              "    .dataframe thead th {\n",
              "        text-align: right;\n",
              "    }\n",
              "</style>\n",
              "<table border=\"1\" class=\"dataframe\">\n",
              "  <thead>\n",
              "    <tr style=\"text-align: right;\">\n",
              "      <th></th>\n",
              "      <th>NA</th>\n",
              "      <th>EU</th>\n",
              "      <th>JP</th>\n",
              "      <th>Other</th>\n",
              "    </tr>\n",
              "    <tr>\n",
              "      <th>Genre</th>\n",
              "      <th></th>\n",
              "      <th></th>\n",
              "      <th></th>\n",
              "      <th></th>\n",
              "    </tr>\n",
              "  </thead>\n",
              "  <tbody>\n",
              "    <tr>\n",
              "      <th>Action</th>\n",
              "      <td>0.04</td>\n",
              "      <td>0.00</td>\n",
              "      <td>0.00</td>\n",
              "      <td>0.00</td>\n",
              "    </tr>\n",
              "    <tr>\n",
              "      <th>Action</th>\n",
              "      <td>0.17</td>\n",
              "      <td>0.00</td>\n",
              "      <td>0.00</td>\n",
              "      <td>0.01</td>\n",
              "    </tr>\n",
              "    <tr>\n",
              "      <th>Adventure</th>\n",
              "      <td>0.00</td>\n",
              "      <td>0.00</td>\n",
              "      <td>0.02</td>\n",
              "      <td>0.00</td>\n",
              "    </tr>\n",
              "    <tr>\n",
              "      <th>Misc</th>\n",
              "      <td>0.04</td>\n",
              "      <td>0.00</td>\n",
              "      <td>0.00</td>\n",
              "      <td>0.00</td>\n",
              "    </tr>\n",
              "    <tr>\n",
              "      <th>Platform</th>\n",
              "      <td>0.12</td>\n",
              "      <td>0.09</td>\n",
              "      <td>0.00</td>\n",
              "      <td>0.04</td>\n",
              "    </tr>\n",
              "  </tbody>\n",
              "</table>\n",
              "</div>"
            ],
            "text/plain": [
              "             NA    EU    JP  Other\n",
              "Genre                             \n",
              "Action     0.04  0.00  0.00   0.00\n",
              "Action     0.17  0.00  0.00   0.01\n",
              "Adventure  0.00  0.00  0.02   0.00\n",
              "Misc       0.04  0.00  0.00   0.00\n",
              "Platform   0.12  0.09  0.00   0.04"
            ]
          },
          "metadata": {
            "tags": []
          },
          "execution_count": 85
        }
      ]
    },
    {
      "cell_type": "code",
      "metadata": {
        "colab": {
          "base_uri": "https://localhost:8080/",
          "height": 0
        },
        "id": "eyI4StcCEMcV",
        "outputId": "2e7fd194-d318-47c7-d563-88052e91e03e"
      },
      "source": [
        "scaler = StandardScaler() \r\n",
        "data_scaled = scaler.fit_transform(df_test2)\r\n",
        "data_scaled = pd.DataFrame(data_scaled)\r\n",
        "data_scaled.columns = ['NA', 'EU', 'JP', 'Other']\r\n",
        "data_scaled = pd.concat([index, data_scaled], axis = 1)\r\n",
        "data_scaled.head()"
      ],
      "execution_count": 86,
      "outputs": [
        {
          "output_type": "execute_result",
          "data": {
            "text/html": [
              "<div>\n",
              "<style scoped>\n",
              "    .dataframe tbody tr th:only-of-type {\n",
              "        vertical-align: middle;\n",
              "    }\n",
              "\n",
              "    .dataframe tbody tr th {\n",
              "        vertical-align: top;\n",
              "    }\n",
              "\n",
              "    .dataframe thead th {\n",
              "        text-align: right;\n",
              "    }\n",
              "</style>\n",
              "<table border=\"1\" class=\"dataframe\">\n",
              "  <thead>\n",
              "    <tr style=\"text-align: right;\">\n",
              "      <th></th>\n",
              "      <th>Genre</th>\n",
              "      <th>NA</th>\n",
              "      <th>EU</th>\n",
              "      <th>JP</th>\n",
              "      <th>Other</th>\n",
              "    </tr>\n",
              "  </thead>\n",
              "  <tbody>\n",
              "    <tr>\n",
              "      <th>0</th>\n",
              "      <td>Action</td>\n",
              "      <td>-0.273825</td>\n",
              "      <td>-0.289889</td>\n",
              "      <td>-0.252836</td>\n",
              "      <td>-0.254037</td>\n",
              "    </tr>\n",
              "    <tr>\n",
              "      <th>1</th>\n",
              "      <td>Action</td>\n",
              "      <td>-0.115590</td>\n",
              "      <td>-0.289889</td>\n",
              "      <td>-0.252836</td>\n",
              "      <td>-0.201260</td>\n",
              "    </tr>\n",
              "    <tr>\n",
              "      <th>2</th>\n",
              "      <td>Adventure</td>\n",
              "      <td>-0.322513</td>\n",
              "      <td>-0.289889</td>\n",
              "      <td>-0.188098</td>\n",
              "      <td>-0.254037</td>\n",
              "    </tr>\n",
              "    <tr>\n",
              "      <th>3</th>\n",
              "      <td>Misc</td>\n",
              "      <td>-0.273825</td>\n",
              "      <td>-0.289889</td>\n",
              "      <td>-0.252836</td>\n",
              "      <td>-0.254037</td>\n",
              "    </tr>\n",
              "    <tr>\n",
              "      <th>4</th>\n",
              "      <td>Platform</td>\n",
              "      <td>-0.176449</td>\n",
              "      <td>-0.112649</td>\n",
              "      <td>-0.252836</td>\n",
              "      <td>-0.042927</td>\n",
              "    </tr>\n",
              "  </tbody>\n",
              "</table>\n",
              "</div>"
            ],
            "text/plain": [
              "       Genre        NA        EU        JP     Other\n",
              "0     Action -0.273825 -0.289889 -0.252836 -0.254037\n",
              "1     Action -0.115590 -0.289889 -0.252836 -0.201260\n",
              "2  Adventure -0.322513 -0.289889 -0.188098 -0.254037\n",
              "3       Misc -0.273825 -0.289889 -0.252836 -0.254037\n",
              "4   Platform -0.176449 -0.112649 -0.252836 -0.042927"
            ]
          },
          "metadata": {
            "tags": []
          },
          "execution_count": 86
        }
      ]
    },
    {
      "cell_type": "markdown",
      "metadata": {
        "id": "a1_X4WvIWuPH"
      },
      "source": [
        "######✍️ library쓰기위해 tidy형태로 만들어주기"
      ]
    },
    {
      "cell_type": "code",
      "metadata": {
        "colab": {
          "base_uri": "https://localhost:8080/",
          "height": 0
        },
        "id": "qW8itN_RIM9T",
        "outputId": "5d20442b-4c3c-4cc4-96f3-17656884fdf1"
      },
      "source": [
        "df_melt_scaled = data_scaled.melt(id_vars = ['Genre'], value_vars = ['NA', 'EU', 'JP', 'Other'])\r\n",
        "df_melt_scaled.columns = ['Genre', 'Country', 'Sales']\r\n",
        "df_melt_scaled.head()"
      ],
      "execution_count": 87,
      "outputs": [
        {
          "output_type": "execute_result",
          "data": {
            "text/html": [
              "<div>\n",
              "<style scoped>\n",
              "    .dataframe tbody tr th:only-of-type {\n",
              "        vertical-align: middle;\n",
              "    }\n",
              "\n",
              "    .dataframe tbody tr th {\n",
              "        vertical-align: top;\n",
              "    }\n",
              "\n",
              "    .dataframe thead th {\n",
              "        text-align: right;\n",
              "    }\n",
              "</style>\n",
              "<table border=\"1\" class=\"dataframe\">\n",
              "  <thead>\n",
              "    <tr style=\"text-align: right;\">\n",
              "      <th></th>\n",
              "      <th>Genre</th>\n",
              "      <th>Country</th>\n",
              "      <th>Sales</th>\n",
              "    </tr>\n",
              "  </thead>\n",
              "  <tbody>\n",
              "    <tr>\n",
              "      <th>0</th>\n",
              "      <td>Action</td>\n",
              "      <td>NA</td>\n",
              "      <td>-0.273825</td>\n",
              "    </tr>\n",
              "    <tr>\n",
              "      <th>1</th>\n",
              "      <td>Action</td>\n",
              "      <td>NA</td>\n",
              "      <td>-0.115590</td>\n",
              "    </tr>\n",
              "    <tr>\n",
              "      <th>2</th>\n",
              "      <td>Adventure</td>\n",
              "      <td>NA</td>\n",
              "      <td>-0.322513</td>\n",
              "    </tr>\n",
              "    <tr>\n",
              "      <th>3</th>\n",
              "      <td>Misc</td>\n",
              "      <td>NA</td>\n",
              "      <td>-0.273825</td>\n",
              "    </tr>\n",
              "    <tr>\n",
              "      <th>4</th>\n",
              "      <td>Platform</td>\n",
              "      <td>NA</td>\n",
              "      <td>-0.176449</td>\n",
              "    </tr>\n",
              "  </tbody>\n",
              "</table>\n",
              "</div>"
            ],
            "text/plain": [
              "       Genre Country     Sales\n",
              "0     Action      NA -0.273825\n",
              "1     Action      NA -0.115590\n",
              "2  Adventure      NA -0.322513\n",
              "3       Misc      NA -0.273825\n",
              "4   Platform      NA -0.176449"
            ]
          },
          "metadata": {
            "tags": []
          },
          "execution_count": 87
        }
      ]
    },
    {
      "cell_type": "code",
      "metadata": {
        "colab": {
          "base_uri": "https://localhost:8080/",
          "height": 0
        },
        "id": "in1wbl3MH-GD",
        "outputId": "f8dd7b64-9763-48fc-c737-bfc11dae29a6"
      },
      "source": [
        "model = ols('Sales ~ C(Genre) + C(Country) + C(Genre):C(Country)', data = df_melt_scaled).fit()\r\n",
        "result = sm.stats.anova_lm(model, typ = 3)\r\n",
        "result"
      ],
      "execution_count": 88,
      "outputs": [
        {
          "output_type": "execute_result",
          "data": {
            "text/html": [
              "<div>\n",
              "<style scoped>\n",
              "    .dataframe tbody tr th:only-of-type {\n",
              "        vertical-align: middle;\n",
              "    }\n",
              "\n",
              "    .dataframe tbody tr th {\n",
              "        vertical-align: top;\n",
              "    }\n",
              "\n",
              "    .dataframe thead th {\n",
              "        text-align: right;\n",
              "    }\n",
              "</style>\n",
              "<table border=\"1\" class=\"dataframe\">\n",
              "  <thead>\n",
              "    <tr style=\"text-align: right;\">\n",
              "      <th></th>\n",
              "      <th>sum_sq</th>\n",
              "      <th>df</th>\n",
              "      <th>F</th>\n",
              "      <th>PR(&gt;F)</th>\n",
              "    </tr>\n",
              "  </thead>\n",
              "  <tbody>\n",
              "    <tr>\n",
              "      <th>Intercept</th>\n",
              "      <td>1.586084</td>\n",
              "      <td>1.0</td>\n",
              "      <td>1.611751</td>\n",
              "      <td>2.042504e-01</td>\n",
              "    </tr>\n",
              "    <tr>\n",
              "      <th>C(Genre)</th>\n",
              "      <td>161.326219</td>\n",
              "      <td>11.0</td>\n",
              "      <td>14.903351</td>\n",
              "      <td>2.282135e-29</td>\n",
              "    </tr>\n",
              "    <tr>\n",
              "      <th>C(Country)</th>\n",
              "      <td>37.788168</td>\n",
              "      <td>3.0</td>\n",
              "      <td>12.799890</td>\n",
              "      <td>2.338597e-08</td>\n",
              "    </tr>\n",
              "    <tr>\n",
              "      <th>C(Genre):C(Country)</th>\n",
              "      <td>615.559744</td>\n",
              "      <td>33.0</td>\n",
              "      <td>18.955181</td>\n",
              "      <td>5.477373e-110</td>\n",
              "    </tr>\n",
              "    <tr>\n",
              "      <th>Residual</th>\n",
              "      <td>64023.939242</td>\n",
              "      <td>65060.0</td>\n",
              "      <td>NaN</td>\n",
              "      <td>NaN</td>\n",
              "    </tr>\n",
              "  </tbody>\n",
              "</table>\n",
              "</div>"
            ],
            "text/plain": [
              "                           sum_sq       df          F         PR(>F)\n",
              "Intercept                1.586084      1.0   1.611751   2.042504e-01\n",
              "C(Genre)               161.326219     11.0  14.903351   2.282135e-29\n",
              "C(Country)              37.788168      3.0  12.799890   2.338597e-08\n",
              "C(Genre):C(Country)    615.559744     33.0  18.955181  5.477373e-110\n",
              "Residual             64023.939242  65060.0        NaN            NaN"
            ]
          },
          "metadata": {
            "tags": []
          },
          "execution_count": 88
        }
      ]
    },
    {
      "cell_type": "markdown",
      "metadata": {
        "id": "APSofiuBXH5u"
      },
      "source": [
        "$H_0$:장르별 Sales에 차이가 없다.\r\n",
        "\r\n",
        "국가별 Sales 분산에 차이가 없다.\r\n",
        "\r\n",
        "장르와 국가별 Sales에 차이가 없다.\r\n",
        "\r\n",
        "$H_1$:장르별 Sales에 차이가 있다.\r\n",
        "\r\n",
        "국가별 Sales 분산에 차이가 있다.\r\n",
        "\r\n",
        "장르와 국가별 Sales에 차이가 있다.\r\n",
        "\r\n",
        "👉 모든 귀무가설 Reject, 모두 차이가 있다."
      ]
    },
    {
      "cell_type": "markdown",
      "metadata": {
        "id": "74BfwGBjXSby"
      },
      "source": [
        "######✍️ 일본 빼고 가설검정"
      ]
    },
    {
      "cell_type": "code",
      "metadata": {
        "colab": {
          "base_uri": "https://localhost:8080/",
          "height": 0
        },
        "id": "WQq9abm5JHgN",
        "outputId": "66544449-dfc8-410f-bab5-ab09eadeee59"
      },
      "source": [
        "data_scaled2 = data_scaled.drop('JP', axis = 1)\r\n",
        "df_melt_scaled2 = data_scaled2.melt(id_vars = ['Genre'], value_vars = ['NA', 'EU', 'Other'])\r\n",
        "df_melt_scaled2.columns = ['Genre', 'Country', 'Sales']\r\n",
        "df_melt_scaled2.head()"
      ],
      "execution_count": 89,
      "outputs": [
        {
          "output_type": "execute_result",
          "data": {
            "text/html": [
              "<div>\n",
              "<style scoped>\n",
              "    .dataframe tbody tr th:only-of-type {\n",
              "        vertical-align: middle;\n",
              "    }\n",
              "\n",
              "    .dataframe tbody tr th {\n",
              "        vertical-align: top;\n",
              "    }\n",
              "\n",
              "    .dataframe thead th {\n",
              "        text-align: right;\n",
              "    }\n",
              "</style>\n",
              "<table border=\"1\" class=\"dataframe\">\n",
              "  <thead>\n",
              "    <tr style=\"text-align: right;\">\n",
              "      <th></th>\n",
              "      <th>Genre</th>\n",
              "      <th>Country</th>\n",
              "      <th>Sales</th>\n",
              "    </tr>\n",
              "  </thead>\n",
              "  <tbody>\n",
              "    <tr>\n",
              "      <th>0</th>\n",
              "      <td>Action</td>\n",
              "      <td>NA</td>\n",
              "      <td>-0.273825</td>\n",
              "    </tr>\n",
              "    <tr>\n",
              "      <th>1</th>\n",
              "      <td>Action</td>\n",
              "      <td>NA</td>\n",
              "      <td>-0.115590</td>\n",
              "    </tr>\n",
              "    <tr>\n",
              "      <th>2</th>\n",
              "      <td>Adventure</td>\n",
              "      <td>NA</td>\n",
              "      <td>-0.322513</td>\n",
              "    </tr>\n",
              "    <tr>\n",
              "      <th>3</th>\n",
              "      <td>Misc</td>\n",
              "      <td>NA</td>\n",
              "      <td>-0.273825</td>\n",
              "    </tr>\n",
              "    <tr>\n",
              "      <th>4</th>\n",
              "      <td>Platform</td>\n",
              "      <td>NA</td>\n",
              "      <td>-0.176449</td>\n",
              "    </tr>\n",
              "  </tbody>\n",
              "</table>\n",
              "</div>"
            ],
            "text/plain": [
              "       Genre Country     Sales\n",
              "0     Action      NA -0.273825\n",
              "1     Action      NA -0.115590\n",
              "2  Adventure      NA -0.322513\n",
              "3       Misc      NA -0.273825\n",
              "4   Platform      NA -0.176449"
            ]
          },
          "metadata": {
            "tags": []
          },
          "execution_count": 89
        }
      ]
    },
    {
      "cell_type": "code",
      "metadata": {
        "colab": {
          "base_uri": "https://localhost:8080/",
          "height": 0
        },
        "id": "FzkuoiRgJW50",
        "outputId": "94e8758f-aaf3-4f2d-9495-6e5f0d19b31b"
      },
      "source": [
        "model2 = ols('Sales ~ C(Genre) + C(Country) + C(Genre):C(Country)', data = df_melt_scaled2).fit()\r\n",
        "result2 = sm.stats.anova_lm(model2, typ = 3)\r\n",
        "result2"
      ],
      "execution_count": 90,
      "outputs": [
        {
          "output_type": "execute_result",
          "data": {
            "text/html": [
              "<div>\n",
              "<style scoped>\n",
              "    .dataframe tbody tr th:only-of-type {\n",
              "        vertical-align: middle;\n",
              "    }\n",
              "\n",
              "    .dataframe tbody tr th {\n",
              "        vertical-align: top;\n",
              "    }\n",
              "\n",
              "    .dataframe thead th {\n",
              "        text-align: right;\n",
              "    }\n",
              "</style>\n",
              "<table border=\"1\" class=\"dataframe\">\n",
              "  <thead>\n",
              "    <tr style=\"text-align: right;\">\n",
              "      <th></th>\n",
              "      <th>sum_sq</th>\n",
              "      <th>df</th>\n",
              "      <th>F</th>\n",
              "      <th>PR(&gt;F)</th>\n",
              "    </tr>\n",
              "  </thead>\n",
              "  <tbody>\n",
              "    <tr>\n",
              "      <th>Intercept</th>\n",
              "      <td>1.586084</td>\n",
              "      <td>1.0</td>\n",
              "      <td>1.602920</td>\n",
              "      <td>2.054959e-01</td>\n",
              "    </tr>\n",
              "    <tr>\n",
              "      <th>C(Genre)</th>\n",
              "      <td>161.326219</td>\n",
              "      <td>11.0</td>\n",
              "      <td>14.821696</td>\n",
              "      <td>3.593156e-29</td>\n",
              "    </tr>\n",
              "    <tr>\n",
              "      <th>C(Country)</th>\n",
              "      <td>3.367482</td>\n",
              "      <td>2.0</td>\n",
              "      <td>1.701614</td>\n",
              "      <td>1.823998e-01</td>\n",
              "    </tr>\n",
              "    <tr>\n",
              "      <th>C(Genre):C(Country)</th>\n",
              "      <td>39.845543</td>\n",
              "      <td>22.0</td>\n",
              "      <td>1.830386</td>\n",
              "      <td>1.007933e-02</td>\n",
              "    </tr>\n",
              "    <tr>\n",
              "      <th>Residual</th>\n",
              "      <td>48282.491901</td>\n",
              "      <td>48795.0</td>\n",
              "      <td>NaN</td>\n",
              "      <td>NaN</td>\n",
              "    </tr>\n",
              "  </tbody>\n",
              "</table>\n",
              "</div>"
            ],
            "text/plain": [
              "                           sum_sq       df          F        PR(>F)\n",
              "Intercept                1.586084      1.0   1.602920  2.054959e-01\n",
              "C(Genre)               161.326219     11.0  14.821696  3.593156e-29\n",
              "C(Country)               3.367482      2.0   1.701614  1.823998e-01\n",
              "C(Genre):C(Country)     39.845543     22.0   1.830386  1.007933e-02\n",
              "Residual             48282.491901  48795.0        NaN           NaN"
            ]
          },
          "metadata": {
            "tags": []
          },
          "execution_count": 90
        }
      ]
    },
    {
      "cell_type": "markdown",
      "metadata": {
        "id": "2Tk5Vx9TSg1c"
      },
      "source": [
        "$H_0$:\r\n",
        "\r\n",
        "1) 장르별 Sales에 차이가 없다.\r\n",
        "\r\n",
        "2) 국가별 Sales 분산에 차이가 없다.\r\n",
        "\r\n",
        "3) 장르와 국가별 Sales에 차이가 없다.\r\n",
        "\r\n",
        "$H_1$:\r\n",
        "\r\n",
        "1) 장르별 Sales에 차이가 있다.\r\n",
        "\r\n",
        "2) 국가별 Sales 분산에 차이가 있다.\r\n",
        "\r\n",
        "3) 장르와 국가별 Sales에 차이가 있다.\r\n",
        "\r\n",
        "👉 유의수준이 5% 혹은 10%라면, Not Reject $H_0$ of 2). \r\n",
        "\r\n",
        "국가별 Sales 분산에 유의미한 차이가 없다(데이터를 나라별로 정규화 했기 때문에).\r\n",
        "\r\n",
        "나머지는 Reject $H_0$ 유의미한 차이가 있다.\r\n",
        "\r\n",
        "❗️ 유의수준을 1%로 보게 된다면, Not Reject $H_0$ of 3) as well. ❗️\r\n",
        "\r\n",
        "즉, '차이가 없다'의 기준을 넓힌다면 장르와 국가별 Sales에도 차이가 없다.\r\n",
        "\r\n",
        "👉 (일본 제외)국가에 따라서 선호하는 게임 장르가 다르지 않다."
      ]
    },
    {
      "cell_type": "markdown",
      "metadata": {
        "id": "jtgEH8OTH-ts"
      },
      "source": [
        "#🙌 ANOVA TEST 끝"
      ]
    },
    {
      "cell_type": "markdown",
      "metadata": {
        "id": "lM3NvyemaURz"
      },
      "source": [
        "#❓그렇다면 일본이 게임 시장 매출에 끼치는 영향은 클까❓"
      ]
    },
    {
      "cell_type": "markdown",
      "metadata": {
        "id": "oxn-HL-T_SVL"
      },
      "source": [
        "#### ✍️ 그렇다면 일본의 선호도를 고려해야 할 만큼 게임 시장 매출에 끼치는 영향이 큰지가 중요하다고 판단, 분석 시작."
      ]
    },
    {
      "cell_type": "code",
      "metadata": {
        "id": "zYxCcREFqbTh",
        "colab": {
          "base_uri": "https://localhost:8080/"
        },
        "outputId": "294cf290-e7fd-4f7c-86af-7b5a611cf503"
      },
      "source": [
        "df.sum()[-4:]"
      ],
      "execution_count": 91,
      "outputs": [
        {
          "output_type": "execute_result",
          "data": {
            "text/plain": [
              "NA       4312.82\n",
              "EU          2396\n",
              "JP       1271.42\n",
              "Other     783.47\n",
              "dtype: object"
            ]
          },
          "metadata": {
            "tags": []
          },
          "execution_count": 91
        }
      ]
    },
    {
      "cell_type": "code",
      "metadata": {
        "colab": {
          "base_uri": "https://localhost:8080/"
        },
        "id": "kBNTkF_0piIe",
        "outputId": "c34df493-6aa9-4549-e55c-b4273e97a2c1"
      },
      "source": [
        "df.sum()[-2]/(df.sum()[-4] + df.sum()[-3] + df.sum()[-2] + df.sum()[-1])"
      ],
      "execution_count": 92,
      "outputs": [
        {
          "output_type": "execute_result",
          "data": {
            "text/plain": [
              "0.14507782662822027"
            ]
          },
          "metadata": {
            "tags": []
          },
          "execution_count": 92
        }
      ]
    },
    {
      "cell_type": "markdown",
      "metadata": {
        "id": "M1aL0uzbYhqP"
      },
      "source": [
        "# ❓연도별 게임의 트렌드가 있을까❓"
      ]
    },
    {
      "cell_type": "markdown",
      "metadata": {
        "id": "pC-IOXbs6Sd0"
      },
      "source": [
        "# 🧾장르를 먼저 살펴보자\r\n",
        "\r\n",
        "######✍️ 게임을 설계하기 위해 알아볼 필요가 있는 트렌드는 'Genre' & 'Platform'이라고 판단"
      ]
    },
    {
      "cell_type": "markdown",
      "metadata": {
        "id": "CuPCztC64bwD"
      },
      "source": [
        "#### ✍️ 게임의 트렌드는 총 매출 기준으로 매년의 Top1 게임을 뽑아 보았다."
      ]
    },
    {
      "cell_type": "code",
      "metadata": {
        "colab": {
          "base_uri": "https://localhost:8080/",
          "height": 204
        },
        "id": "-fZGlRyDYfx5",
        "outputId": "70f9aed0-d229-4bb8-ab74-aea5ab56d31f"
      },
      "source": [
        "df_year = df\r\n",
        "df_year['Sales'] = df_year['NA'] + df_year['EU'] + df_year['JP'] + df_year['Other']\r\n",
        "df_year = df_year[['Year', 'Genre', 'Sales']]\r\n",
        "df_year.head()"
      ],
      "execution_count": 93,
      "outputs": [
        {
          "output_type": "execute_result",
          "data": {
            "text/html": [
              "<div>\n",
              "<style scoped>\n",
              "    .dataframe tbody tr th:only-of-type {\n",
              "        vertical-align: middle;\n",
              "    }\n",
              "\n",
              "    .dataframe tbody tr th {\n",
              "        vertical-align: top;\n",
              "    }\n",
              "\n",
              "    .dataframe thead th {\n",
              "        text-align: right;\n",
              "    }\n",
              "</style>\n",
              "<table border=\"1\" class=\"dataframe\">\n",
              "  <thead>\n",
              "    <tr style=\"text-align: right;\">\n",
              "      <th></th>\n",
              "      <th>Year</th>\n",
              "      <th>Genre</th>\n",
              "      <th>Sales</th>\n",
              "    </tr>\n",
              "  </thead>\n",
              "  <tbody>\n",
              "    <tr>\n",
              "      <th>1</th>\n",
              "      <td>2008</td>\n",
              "      <td>Action</td>\n",
              "      <td>0.04</td>\n",
              "    </tr>\n",
              "    <tr>\n",
              "      <th>2</th>\n",
              "      <td>2009</td>\n",
              "      <td>Action</td>\n",
              "      <td>0.18</td>\n",
              "    </tr>\n",
              "    <tr>\n",
              "      <th>3</th>\n",
              "      <td>2010</td>\n",
              "      <td>Adventure</td>\n",
              "      <td>0.02</td>\n",
              "    </tr>\n",
              "    <tr>\n",
              "      <th>4</th>\n",
              "      <td>2010</td>\n",
              "      <td>Misc</td>\n",
              "      <td>0.04</td>\n",
              "    </tr>\n",
              "    <tr>\n",
              "      <th>5</th>\n",
              "      <td>2010</td>\n",
              "      <td>Platform</td>\n",
              "      <td>0.25</td>\n",
              "    </tr>\n",
              "  </tbody>\n",
              "</table>\n",
              "</div>"
            ],
            "text/plain": [
              "   Year      Genre  Sales\n",
              "1  2008     Action   0.04\n",
              "2  2009     Action   0.18\n",
              "3  2010  Adventure   0.02\n",
              "4  2010       Misc   0.04\n",
              "5  2010   Platform   0.25"
            ]
          },
          "metadata": {
            "tags": []
          },
          "execution_count": 93
        }
      ]
    },
    {
      "cell_type": "markdown",
      "metadata": {
        "id": "ehcJ7jbFnYCA"
      },
      "source": [
        "######✍️ Outlier 제거하는 중 row를 drop하면서 len(df_year3)이 작아지는데 i는 커져서 오류남 -> reversed로 해결!"
      ]
    },
    {
      "cell_type": "code",
      "metadata": {
        "colab": {
          "base_uri": "https://localhost:8080/",
          "height": 204
        },
        "id": "PIdiKyUr1dqu",
        "outputId": "c4c20be0-35ec-48c2-8bbc-e9e00109d7be"
      },
      "source": [
        "df_year3 = df_year.groupby(by = ['Year', 'Genre'], as_index = False).sum()\r\n",
        "for i in reversed(range(len(df_year3))):\r\n",
        "  if df_year3.iloc[i, 0] == 2017:\r\n",
        "    df_year3 = df_year3.drop(i)\r\n",
        "  elif df_year3.iloc[i, 0] == 2020:\r\n",
        "    df_year3 = df_year3.drop(i)\r\n",
        "df_year3.head()"
      ],
      "execution_count": 94,
      "outputs": [
        {
          "output_type": "execute_result",
          "data": {
            "text/html": [
              "<div>\n",
              "<style scoped>\n",
              "    .dataframe tbody tr th:only-of-type {\n",
              "        vertical-align: middle;\n",
              "    }\n",
              "\n",
              "    .dataframe tbody tr th {\n",
              "        vertical-align: top;\n",
              "    }\n",
              "\n",
              "    .dataframe thead th {\n",
              "        text-align: right;\n",
              "    }\n",
              "</style>\n",
              "<table border=\"1\" class=\"dataframe\">\n",
              "  <thead>\n",
              "    <tr style=\"text-align: right;\">\n",
              "      <th></th>\n",
              "      <th>Year</th>\n",
              "      <th>Genre</th>\n",
              "      <th>Sales</th>\n",
              "    </tr>\n",
              "  </thead>\n",
              "  <tbody>\n",
              "    <tr>\n",
              "      <th>0</th>\n",
              "      <td>1980</td>\n",
              "      <td>Action</td>\n",
              "      <td>0.34</td>\n",
              "    </tr>\n",
              "    <tr>\n",
              "      <th>1</th>\n",
              "      <td>1980</td>\n",
              "      <td>Fighting</td>\n",
              "      <td>0.77</td>\n",
              "    </tr>\n",
              "    <tr>\n",
              "      <th>2</th>\n",
              "      <td>1980</td>\n",
              "      <td>Misc</td>\n",
              "      <td>2.70</td>\n",
              "    </tr>\n",
              "    <tr>\n",
              "      <th>3</th>\n",
              "      <td>1980</td>\n",
              "      <td>Shooter</td>\n",
              "      <td>7.07</td>\n",
              "    </tr>\n",
              "    <tr>\n",
              "      <th>4</th>\n",
              "      <td>1981</td>\n",
              "      <td>Action</td>\n",
              "      <td>14.79</td>\n",
              "    </tr>\n",
              "  </tbody>\n",
              "</table>\n",
              "</div>"
            ],
            "text/plain": [
              "   Year     Genre  Sales\n",
              "0  1980    Action   0.34\n",
              "1  1980  Fighting   0.77\n",
              "2  1980      Misc   2.70\n",
              "3  1980   Shooter   7.07\n",
              "4  1981    Action  14.79"
            ]
          },
          "metadata": {
            "tags": []
          },
          "execution_count": 94
        }
      ]
    },
    {
      "cell_type": "code",
      "metadata": {
        "colab": {
          "base_uri": "https://localhost:8080/",
          "height": 235
        },
        "id": "bZBUfpVl1QPv",
        "outputId": "4129b310-b458-4f40-b70f-556a0fc0235c"
      },
      "source": [
        "df_pivot = df_year3.pivot_table(index = 'Year', columns = 'Genre', values = 'Sales')\r\n",
        "df_pivot = df_pivot.fillna(0)\r\n",
        "df_pivot.head()"
      ],
      "execution_count": 95,
      "outputs": [
        {
          "output_type": "execute_result",
          "data": {
            "text/html": [
              "<div>\n",
              "<style scoped>\n",
              "    .dataframe tbody tr th:only-of-type {\n",
              "        vertical-align: middle;\n",
              "    }\n",
              "\n",
              "    .dataframe tbody tr th {\n",
              "        vertical-align: top;\n",
              "    }\n",
              "\n",
              "    .dataframe thead th {\n",
              "        text-align: right;\n",
              "    }\n",
              "</style>\n",
              "<table border=\"1\" class=\"dataframe\">\n",
              "  <thead>\n",
              "    <tr style=\"text-align: right;\">\n",
              "      <th>Genre</th>\n",
              "      <th>Action</th>\n",
              "      <th>Adventure</th>\n",
              "      <th>Fighting</th>\n",
              "      <th>Misc</th>\n",
              "      <th>Platform</th>\n",
              "      <th>Puzzle</th>\n",
              "      <th>Racing</th>\n",
              "      <th>Role-Playing</th>\n",
              "      <th>Shooter</th>\n",
              "      <th>Simulation</th>\n",
              "      <th>Sports</th>\n",
              "      <th>Strategy</th>\n",
              "    </tr>\n",
              "    <tr>\n",
              "      <th>Year</th>\n",
              "      <th></th>\n",
              "      <th></th>\n",
              "      <th></th>\n",
              "      <th></th>\n",
              "      <th></th>\n",
              "      <th></th>\n",
              "      <th></th>\n",
              "      <th></th>\n",
              "      <th></th>\n",
              "      <th></th>\n",
              "      <th></th>\n",
              "      <th></th>\n",
              "    </tr>\n",
              "  </thead>\n",
              "  <tbody>\n",
              "    <tr>\n",
              "      <th>1980</th>\n",
              "      <td>0.34</td>\n",
              "      <td>0.0</td>\n",
              "      <td>0.77</td>\n",
              "      <td>2.70</td>\n",
              "      <td>0.00</td>\n",
              "      <td>0.00</td>\n",
              "      <td>0.00</td>\n",
              "      <td>0.0</td>\n",
              "      <td>7.07</td>\n",
              "      <td>0.00</td>\n",
              "      <td>0.00</td>\n",
              "      <td>0.0</td>\n",
              "    </tr>\n",
              "    <tr>\n",
              "      <th>1981</th>\n",
              "      <td>14.79</td>\n",
              "      <td>0.0</td>\n",
              "      <td>0.00</td>\n",
              "      <td>0.00</td>\n",
              "      <td>6.92</td>\n",
              "      <td>2.25</td>\n",
              "      <td>0.48</td>\n",
              "      <td>0.0</td>\n",
              "      <td>10.02</td>\n",
              "      <td>0.44</td>\n",
              "      <td>0.78</td>\n",
              "      <td>0.0</td>\n",
              "    </tr>\n",
              "    <tr>\n",
              "      <th>1982</th>\n",
              "      <td>6.50</td>\n",
              "      <td>0.0</td>\n",
              "      <td>0.00</td>\n",
              "      <td>0.87</td>\n",
              "      <td>5.03</td>\n",
              "      <td>10.04</td>\n",
              "      <td>1.57</td>\n",
              "      <td>0.0</td>\n",
              "      <td>3.81</td>\n",
              "      <td>0.00</td>\n",
              "      <td>1.06</td>\n",
              "      <td>0.0</td>\n",
              "    </tr>\n",
              "    <tr>\n",
              "      <th>1983</th>\n",
              "      <td>2.86</td>\n",
              "      <td>0.4</td>\n",
              "      <td>0.00</td>\n",
              "      <td>2.14</td>\n",
              "      <td>6.93</td>\n",
              "      <td>0.78</td>\n",
              "      <td>0.00</td>\n",
              "      <td>0.0</td>\n",
              "      <td>0.49</td>\n",
              "      <td>0.00</td>\n",
              "      <td>3.20</td>\n",
              "      <td>0.0</td>\n",
              "    </tr>\n",
              "    <tr>\n",
              "      <th>1984</th>\n",
              "      <td>1.85</td>\n",
              "      <td>0.0</td>\n",
              "      <td>0.00</td>\n",
              "      <td>1.45</td>\n",
              "      <td>0.69</td>\n",
              "      <td>3.14</td>\n",
              "      <td>5.95</td>\n",
              "      <td>0.0</td>\n",
              "      <td>31.10</td>\n",
              "      <td>0.00</td>\n",
              "      <td>6.17</td>\n",
              "      <td>0.0</td>\n",
              "    </tr>\n",
              "  </tbody>\n",
              "</table>\n",
              "</div>"
            ],
            "text/plain": [
              "Genre  Action  Adventure  Fighting  Misc  ...  Shooter  Simulation  Sports  Strategy\n",
              "Year                                      ...                                       \n",
              "1980     0.34        0.0      0.77  2.70  ...     7.07        0.00    0.00       0.0\n",
              "1981    14.79        0.0      0.00  0.00  ...    10.02        0.44    0.78       0.0\n",
              "1982     6.50        0.0      0.00  0.87  ...     3.81        0.00    1.06       0.0\n",
              "1983     2.86        0.4      0.00  2.14  ...     0.49        0.00    3.20       0.0\n",
              "1984     1.85        0.0      0.00  1.45  ...    31.10        0.00    6.17       0.0\n",
              "\n",
              "[5 rows x 12 columns]"
            ]
          },
          "metadata": {
            "tags": []
          },
          "execution_count": 95
        }
      ]
    },
    {
      "cell_type": "code",
      "metadata": {
        "colab": {
          "base_uri": "https://localhost:8080/"
        },
        "id": "GzZT9oFyiKT8",
        "outputId": "114e0de4-02f2-4c6c-d09c-306923a84633"
      },
      "source": [
        "df_pivot.shape"
      ],
      "execution_count": 96,
      "outputs": [
        {
          "output_type": "execute_result",
          "data": {
            "text/plain": [
              "(37, 12)"
            ]
          },
          "metadata": {
            "tags": []
          },
          "execution_count": 96
        }
      ]
    },
    {
      "cell_type": "code",
      "metadata": {
        "colab": {
          "base_uri": "https://localhost:8080/",
          "height": 235
        },
        "id": "xkQo_dNMi1XS",
        "outputId": "c2fb0616-452b-42d4-8764-2d5c11625950"
      },
      "source": [
        "df_pivot_col = df_pivot.keys()\r\n",
        "df_pivot['maxvalue'] = df_pivot.max(axis = 1)\r\n",
        "df_pivot['Rank1'] = 0\r\n",
        "df_pivot.head()"
      ],
      "execution_count": 97,
      "outputs": [
        {
          "output_type": "execute_result",
          "data": {
            "text/html": [
              "<div>\n",
              "<style scoped>\n",
              "    .dataframe tbody tr th:only-of-type {\n",
              "        vertical-align: middle;\n",
              "    }\n",
              "\n",
              "    .dataframe tbody tr th {\n",
              "        vertical-align: top;\n",
              "    }\n",
              "\n",
              "    .dataframe thead th {\n",
              "        text-align: right;\n",
              "    }\n",
              "</style>\n",
              "<table border=\"1\" class=\"dataframe\">\n",
              "  <thead>\n",
              "    <tr style=\"text-align: right;\">\n",
              "      <th>Genre</th>\n",
              "      <th>Action</th>\n",
              "      <th>Adventure</th>\n",
              "      <th>Fighting</th>\n",
              "      <th>Misc</th>\n",
              "      <th>Platform</th>\n",
              "      <th>Puzzle</th>\n",
              "      <th>Racing</th>\n",
              "      <th>Role-Playing</th>\n",
              "      <th>Shooter</th>\n",
              "      <th>Simulation</th>\n",
              "      <th>Sports</th>\n",
              "      <th>Strategy</th>\n",
              "      <th>maxvalue</th>\n",
              "      <th>Rank1</th>\n",
              "    </tr>\n",
              "    <tr>\n",
              "      <th>Year</th>\n",
              "      <th></th>\n",
              "      <th></th>\n",
              "      <th></th>\n",
              "      <th></th>\n",
              "      <th></th>\n",
              "      <th></th>\n",
              "      <th></th>\n",
              "      <th></th>\n",
              "      <th></th>\n",
              "      <th></th>\n",
              "      <th></th>\n",
              "      <th></th>\n",
              "      <th></th>\n",
              "      <th></th>\n",
              "    </tr>\n",
              "  </thead>\n",
              "  <tbody>\n",
              "    <tr>\n",
              "      <th>1980</th>\n",
              "      <td>0.34</td>\n",
              "      <td>0.0</td>\n",
              "      <td>0.77</td>\n",
              "      <td>2.70</td>\n",
              "      <td>0.00</td>\n",
              "      <td>0.00</td>\n",
              "      <td>0.00</td>\n",
              "      <td>0.0</td>\n",
              "      <td>7.07</td>\n",
              "      <td>0.00</td>\n",
              "      <td>0.00</td>\n",
              "      <td>0.0</td>\n",
              "      <td>7.07</td>\n",
              "      <td>0</td>\n",
              "    </tr>\n",
              "    <tr>\n",
              "      <th>1981</th>\n",
              "      <td>14.79</td>\n",
              "      <td>0.0</td>\n",
              "      <td>0.00</td>\n",
              "      <td>0.00</td>\n",
              "      <td>6.92</td>\n",
              "      <td>2.25</td>\n",
              "      <td>0.48</td>\n",
              "      <td>0.0</td>\n",
              "      <td>10.02</td>\n",
              "      <td>0.44</td>\n",
              "      <td>0.78</td>\n",
              "      <td>0.0</td>\n",
              "      <td>14.79</td>\n",
              "      <td>0</td>\n",
              "    </tr>\n",
              "    <tr>\n",
              "      <th>1982</th>\n",
              "      <td>6.50</td>\n",
              "      <td>0.0</td>\n",
              "      <td>0.00</td>\n",
              "      <td>0.87</td>\n",
              "      <td>5.03</td>\n",
              "      <td>10.04</td>\n",
              "      <td>1.57</td>\n",
              "      <td>0.0</td>\n",
              "      <td>3.81</td>\n",
              "      <td>0.00</td>\n",
              "      <td>1.06</td>\n",
              "      <td>0.0</td>\n",
              "      <td>10.04</td>\n",
              "      <td>0</td>\n",
              "    </tr>\n",
              "    <tr>\n",
              "      <th>1983</th>\n",
              "      <td>2.86</td>\n",
              "      <td>0.4</td>\n",
              "      <td>0.00</td>\n",
              "      <td>2.14</td>\n",
              "      <td>6.93</td>\n",
              "      <td>0.78</td>\n",
              "      <td>0.00</td>\n",
              "      <td>0.0</td>\n",
              "      <td>0.49</td>\n",
              "      <td>0.00</td>\n",
              "      <td>3.20</td>\n",
              "      <td>0.0</td>\n",
              "      <td>6.93</td>\n",
              "      <td>0</td>\n",
              "    </tr>\n",
              "    <tr>\n",
              "      <th>1984</th>\n",
              "      <td>1.85</td>\n",
              "      <td>0.0</td>\n",
              "      <td>0.00</td>\n",
              "      <td>1.45</td>\n",
              "      <td>0.69</td>\n",
              "      <td>3.14</td>\n",
              "      <td>5.95</td>\n",
              "      <td>0.0</td>\n",
              "      <td>31.10</td>\n",
              "      <td>0.00</td>\n",
              "      <td>6.17</td>\n",
              "      <td>0.0</td>\n",
              "      <td>31.10</td>\n",
              "      <td>0</td>\n",
              "    </tr>\n",
              "  </tbody>\n",
              "</table>\n",
              "</div>"
            ],
            "text/plain": [
              "Genre  Action  Adventure  Fighting  Misc  ...  Sports  Strategy  maxvalue  Rank1\n",
              "Year                                      ...                                   \n",
              "1980     0.34        0.0      0.77  2.70  ...    0.00       0.0      7.07      0\n",
              "1981    14.79        0.0      0.00  0.00  ...    0.78       0.0     14.79      0\n",
              "1982     6.50        0.0      0.00  0.87  ...    1.06       0.0     10.04      0\n",
              "1983     2.86        0.4      0.00  2.14  ...    3.20       0.0      6.93      0\n",
              "1984     1.85        0.0      0.00  1.45  ...    6.17       0.0     31.10      0\n",
              "\n",
              "[5 rows x 14 columns]"
            ]
          },
          "metadata": {
            "tags": []
          },
          "execution_count": 97
        }
      ]
    },
    {
      "cell_type": "code",
      "metadata": {
        "id": "qqmckg_6oo_X",
        "outputId": "a3695f63-f73e-4115-d0e0-c02ecfddedff",
        "colab": {
          "base_uri": "https://localhost:8080/"
        }
      },
      "source": [
        "len(df_pivot_col)"
      ],
      "execution_count": 98,
      "outputs": [
        {
          "output_type": "execute_result",
          "data": {
            "text/plain": [
              "12"
            ]
          },
          "metadata": {
            "tags": []
          },
          "execution_count": 98
        }
      ]
    },
    {
      "cell_type": "code",
      "metadata": {
        "colab": {
          "base_uri": "https://localhost:8080/",
          "height": 235
        },
        "id": "G979qR2AiDTq",
        "outputId": "adcb0432-f2d3-40e4-f835-8b57b672d5d8"
      },
      "source": [
        "for i in range(len(df_pivot)):\r\n",
        "  for m in range(len(df_pivot_col)):\r\n",
        "    if df_pivot.iloc[i, m] == df_pivot.iloc[i, len(df_pivot_col)]:\r\n",
        "      df_pivot.iloc[i, len(df_pivot_col) + 1] = df_pivot_col[m]\r\n",
        "df_pivot.head()"
      ],
      "execution_count": 99,
      "outputs": [
        {
          "output_type": "execute_result",
          "data": {
            "text/html": [
              "<div>\n",
              "<style scoped>\n",
              "    .dataframe tbody tr th:only-of-type {\n",
              "        vertical-align: middle;\n",
              "    }\n",
              "\n",
              "    .dataframe tbody tr th {\n",
              "        vertical-align: top;\n",
              "    }\n",
              "\n",
              "    .dataframe thead th {\n",
              "        text-align: right;\n",
              "    }\n",
              "</style>\n",
              "<table border=\"1\" class=\"dataframe\">\n",
              "  <thead>\n",
              "    <tr style=\"text-align: right;\">\n",
              "      <th>Genre</th>\n",
              "      <th>Action</th>\n",
              "      <th>Adventure</th>\n",
              "      <th>Fighting</th>\n",
              "      <th>Misc</th>\n",
              "      <th>Platform</th>\n",
              "      <th>Puzzle</th>\n",
              "      <th>Racing</th>\n",
              "      <th>Role-Playing</th>\n",
              "      <th>Shooter</th>\n",
              "      <th>Simulation</th>\n",
              "      <th>Sports</th>\n",
              "      <th>Strategy</th>\n",
              "      <th>maxvalue</th>\n",
              "      <th>Rank1</th>\n",
              "    </tr>\n",
              "    <tr>\n",
              "      <th>Year</th>\n",
              "      <th></th>\n",
              "      <th></th>\n",
              "      <th></th>\n",
              "      <th></th>\n",
              "      <th></th>\n",
              "      <th></th>\n",
              "      <th></th>\n",
              "      <th></th>\n",
              "      <th></th>\n",
              "      <th></th>\n",
              "      <th></th>\n",
              "      <th></th>\n",
              "      <th></th>\n",
              "      <th></th>\n",
              "    </tr>\n",
              "  </thead>\n",
              "  <tbody>\n",
              "    <tr>\n",
              "      <th>1980</th>\n",
              "      <td>0.34</td>\n",
              "      <td>0.0</td>\n",
              "      <td>0.77</td>\n",
              "      <td>2.70</td>\n",
              "      <td>0.00</td>\n",
              "      <td>0.00</td>\n",
              "      <td>0.00</td>\n",
              "      <td>0.0</td>\n",
              "      <td>7.07</td>\n",
              "      <td>0.00</td>\n",
              "      <td>0.00</td>\n",
              "      <td>0.0</td>\n",
              "      <td>7.07</td>\n",
              "      <td>Shooter</td>\n",
              "    </tr>\n",
              "    <tr>\n",
              "      <th>1981</th>\n",
              "      <td>14.79</td>\n",
              "      <td>0.0</td>\n",
              "      <td>0.00</td>\n",
              "      <td>0.00</td>\n",
              "      <td>6.92</td>\n",
              "      <td>2.25</td>\n",
              "      <td>0.48</td>\n",
              "      <td>0.0</td>\n",
              "      <td>10.02</td>\n",
              "      <td>0.44</td>\n",
              "      <td>0.78</td>\n",
              "      <td>0.0</td>\n",
              "      <td>14.79</td>\n",
              "      <td>Action</td>\n",
              "    </tr>\n",
              "    <tr>\n",
              "      <th>1982</th>\n",
              "      <td>6.50</td>\n",
              "      <td>0.0</td>\n",
              "      <td>0.00</td>\n",
              "      <td>0.87</td>\n",
              "      <td>5.03</td>\n",
              "      <td>10.04</td>\n",
              "      <td>1.57</td>\n",
              "      <td>0.0</td>\n",
              "      <td>3.81</td>\n",
              "      <td>0.00</td>\n",
              "      <td>1.06</td>\n",
              "      <td>0.0</td>\n",
              "      <td>10.04</td>\n",
              "      <td>Puzzle</td>\n",
              "    </tr>\n",
              "    <tr>\n",
              "      <th>1983</th>\n",
              "      <td>2.86</td>\n",
              "      <td>0.4</td>\n",
              "      <td>0.00</td>\n",
              "      <td>2.14</td>\n",
              "      <td>6.93</td>\n",
              "      <td>0.78</td>\n",
              "      <td>0.00</td>\n",
              "      <td>0.0</td>\n",
              "      <td>0.49</td>\n",
              "      <td>0.00</td>\n",
              "      <td>3.20</td>\n",
              "      <td>0.0</td>\n",
              "      <td>6.93</td>\n",
              "      <td>Platform</td>\n",
              "    </tr>\n",
              "    <tr>\n",
              "      <th>1984</th>\n",
              "      <td>1.85</td>\n",
              "      <td>0.0</td>\n",
              "      <td>0.00</td>\n",
              "      <td>1.45</td>\n",
              "      <td>0.69</td>\n",
              "      <td>3.14</td>\n",
              "      <td>5.95</td>\n",
              "      <td>0.0</td>\n",
              "      <td>31.10</td>\n",
              "      <td>0.00</td>\n",
              "      <td>6.17</td>\n",
              "      <td>0.0</td>\n",
              "      <td>31.10</td>\n",
              "      <td>Shooter</td>\n",
              "    </tr>\n",
              "  </tbody>\n",
              "</table>\n",
              "</div>"
            ],
            "text/plain": [
              "Genre  Action  Adventure  Fighting  Misc  ...  Sports  Strategy  maxvalue     Rank1\n",
              "Year                                      ...                                      \n",
              "1980     0.34        0.0      0.77  2.70  ...    0.00       0.0      7.07   Shooter\n",
              "1981    14.79        0.0      0.00  0.00  ...    0.78       0.0     14.79    Action\n",
              "1982     6.50        0.0      0.00  0.87  ...    1.06       0.0     10.04    Puzzle\n",
              "1983     2.86        0.4      0.00  2.14  ...    3.20       0.0      6.93  Platform\n",
              "1984     1.85        0.0      0.00  1.45  ...    6.17       0.0     31.10   Shooter\n",
              "\n",
              "[5 rows x 14 columns]"
            ]
          },
          "metadata": {
            "tags": []
          },
          "execution_count": 99
        }
      ]
    },
    {
      "cell_type": "markdown",
      "metadata": {
        "id": "jZGzXWrLlo3J"
      },
      "source": [
        "#👩‍💻 시각화 📊\r\n",
        "\r\n",
        "❗️ y축의 높낮이는 숫자적 의미를 가지지 않는다. ❗️"
      ]
    },
    {
      "cell_type": "code",
      "metadata": {
        "id": "mVY7Ob9wnCf6"
      },
      "source": [
        "df_pivot_vis = df_pivot.reset_index()"
      ],
      "execution_count": 100,
      "outputs": []
    },
    {
      "cell_type": "code",
      "metadata": {
        "colab": {
          "base_uri": "https://localhost:8080/",
          "height": 0
        },
        "id": "LNi3g_STl-hB",
        "outputId": "43cbe53a-d826-4775-8c44-4b26acef989c"
      },
      "source": [
        "plt.plot(df_pivot_vis['Year'], df_pivot_vis['Rank1'], color = 'lightgray', ls = ':', lw = 1)\r\n",
        "sns.scatterplot(x = 'Year', y = 'Rank1', data = df_pivot_vis, hue = 'Rank1', palette = 'Paired')\r\n",
        "plt.legend(bbox_to_anchor=(1, 1), loc=2)\r\n",
        "plt.show();"
      ],
      "execution_count": 101,
      "outputs": [
        {
          "output_type": "display_data",
          "data": {
            "image/png": "[encoded data removed]",
            "text/plain": [
              "<Figure size 432x288 with 1 Axes>"
            ]
          },
          "metadata": {
            "tags": [],
            "needs_background": "light"
          }
        }
      ]
    },
    {
      "cell_type": "markdown",
      "metadata": {
        "id": "v7f-zsvTs4CY"
      },
      "source": [
        "#####✍️ 2000년대에 들어서고 나서는 Action과 Sports 게임이 매출의 1위를 다투고 있음을 알 수 있습니다."
      ]
    },
    {
      "cell_type": "markdown",
      "metadata": {
        "id": "i5Plc_FvzREn"
      },
      "source": [
        "#✍️ Chi-square Test 시작\r\n",
        "\r\n",
        "###### ✍️ 출시를 하고 매출이 발생한 '사건'이 트렌드를 알아보는 지표가 될 수 있다고 판단, Chi square Test 채택 및 진행"
      ]
    },
    {
      "cell_type": "code",
      "metadata": {
        "id": "nJXc2035ntU1"
      },
      "source": [
        "df_year4 = df_year"
      ],
      "execution_count": 102,
      "outputs": []
    },
    {
      "cell_type": "code",
      "metadata": {
        "colab": {
          "base_uri": "https://localhost:8080/",
          "height": 420
        },
        "id": "GwN9rObswNbl",
        "outputId": "d48b3ec1-bd03-4661-c0de-124572be9994"
      },
      "source": [
        "df_year4.loc[:, 'Count'] = 0\r\n",
        "df_year4.head()"
      ],
      "execution_count": 103,
      "outputs": [
        {
          "output_type": "stream",
          "text": [
            "/usr/local/lib/python3.6/dist-packages/pandas/core/indexing.py:1596: SettingWithCopyWarning: \n",
            "A value is trying to be set on a copy of a slice from a DataFrame.\n",
            "Try using .loc[row_indexer,col_indexer] = value instead\n",
            "\n",
            "See the caveats in the documentation: https://pandas.pydata.org/pandas-docs/stable/user_guide/indexing.html#returning-a-view-versus-a-copy\n",
            "  self.obj[key] = _infer_fill_value(value)\n",
            "/usr/local/lib/python3.6/dist-packages/pandas/core/indexing.py:1763: SettingWithCopyWarning: \n",
            "A value is trying to be set on a copy of a slice from a DataFrame.\n",
            "Try using .loc[row_indexer,col_indexer] = value instead\n",
            "\n",
            "See the caveats in the documentation: https://pandas.pydata.org/pandas-docs/stable/user_guide/indexing.html#returning-a-view-versus-a-copy\n",
            "  isetter(loc, value)\n"
          ],
          "name": "stderr"
        },
        {
          "output_type": "execute_result",
          "data": {
            "text/html": [
              "<div>\n",
              "<style scoped>\n",
              "    .dataframe tbody tr th:only-of-type {\n",
              "        vertical-align: middle;\n",
              "    }\n",
              "\n",
              "    .dataframe tbody tr th {\n",
              "        vertical-align: top;\n",
              "    }\n",
              "\n",
              "    .dataframe thead th {\n",
              "        text-align: right;\n",
              "    }\n",
              "</style>\n",
              "<table border=\"1\" class=\"dataframe\">\n",
              "  <thead>\n",
              "    <tr style=\"text-align: right;\">\n",
              "      <th></th>\n",
              "      <th>Year</th>\n",
              "      <th>Genre</th>\n",
              "      <th>Sales</th>\n",
              "      <th>Count</th>\n",
              "    </tr>\n",
              "  </thead>\n",
              "  <tbody>\n",
              "    <tr>\n",
              "      <th>1</th>\n",
              "      <td>2008</td>\n",
              "      <td>Action</td>\n",
              "      <td>0.04</td>\n",
              "      <td>0</td>\n",
              "    </tr>\n",
              "    <tr>\n",
              "      <th>2</th>\n",
              "      <td>2009</td>\n",
              "      <td>Action</td>\n",
              "      <td>0.18</td>\n",
              "      <td>0</td>\n",
              "    </tr>\n",
              "    <tr>\n",
              "      <th>3</th>\n",
              "      <td>2010</td>\n",
              "      <td>Adventure</td>\n",
              "      <td>0.02</td>\n",
              "      <td>0</td>\n",
              "    </tr>\n",
              "    <tr>\n",
              "      <th>4</th>\n",
              "      <td>2010</td>\n",
              "      <td>Misc</td>\n",
              "      <td>0.04</td>\n",
              "      <td>0</td>\n",
              "    </tr>\n",
              "    <tr>\n",
              "      <th>5</th>\n",
              "      <td>2010</td>\n",
              "      <td>Platform</td>\n",
              "      <td>0.25</td>\n",
              "      <td>0</td>\n",
              "    </tr>\n",
              "  </tbody>\n",
              "</table>\n",
              "</div>"
            ],
            "text/plain": [
              "   Year      Genre  Sales  Count\n",
              "1  2008     Action   0.04      0\n",
              "2  2009     Action   0.18      0\n",
              "3  2010  Adventure   0.02      0\n",
              "4  2010       Misc   0.04      0\n",
              "5  2010   Platform   0.25      0"
            ]
          },
          "metadata": {
            "tags": []
          },
          "execution_count": 103
        }
      ]
    },
    {
      "cell_type": "code",
      "metadata": {
        "id": "XhxpTPQMpa5V",
        "colab": {
          "base_uri": "https://localhost:8080/",
          "height": 312
        },
        "outputId": "5cf9f472-e056-4fff-8306-76d95c6187e3"
      },
      "source": [
        "for n in range(len(df_year4)):\r\n",
        "  if df_year4.iloc[n, 2] > 0:\r\n",
        "    df_year4.iloc[n, 3] = 1\r\n",
        "df_year4 = df_year4.drop('Sales', axis = 1)\r\n",
        "df_year4.head()"
      ],
      "execution_count": 104,
      "outputs": [
        {
          "output_type": "stream",
          "text": [
            "/usr/local/lib/python3.6/dist-packages/pandas/core/indexing.py:1763: SettingWithCopyWarning: \n",
            "A value is trying to be set on a copy of a slice from a DataFrame.\n",
            "Try using .loc[row_indexer,col_indexer] = value instead\n",
            "\n",
            "See the caveats in the documentation: https://pandas.pydata.org/pandas-docs/stable/user_guide/indexing.html#returning-a-view-versus-a-copy\n",
            "  isetter(loc, value)\n"
          ],
          "name": "stderr"
        },
        {
          "output_type": "execute_result",
          "data": {
            "text/html": [
              "<div>\n",
              "<style scoped>\n",
              "    .dataframe tbody tr th:only-of-type {\n",
              "        vertical-align: middle;\n",
              "    }\n",
              "\n",
              "    .dataframe tbody tr th {\n",
              "        vertical-align: top;\n",
              "    }\n",
              "\n",
              "    .dataframe thead th {\n",
              "        text-align: right;\n",
              "    }\n",
              "</style>\n",
              "<table border=\"1\" class=\"dataframe\">\n",
              "  <thead>\n",
              "    <tr style=\"text-align: right;\">\n",
              "      <th></th>\n",
              "      <th>Year</th>\n",
              "      <th>Genre</th>\n",
              "      <th>Count</th>\n",
              "    </tr>\n",
              "  </thead>\n",
              "  <tbody>\n",
              "    <tr>\n",
              "      <th>1</th>\n",
              "      <td>2008</td>\n",
              "      <td>Action</td>\n",
              "      <td>1</td>\n",
              "    </tr>\n",
              "    <tr>\n",
              "      <th>2</th>\n",
              "      <td>2009</td>\n",
              "      <td>Action</td>\n",
              "      <td>1</td>\n",
              "    </tr>\n",
              "    <tr>\n",
              "      <th>3</th>\n",
              "      <td>2010</td>\n",
              "      <td>Adventure</td>\n",
              "      <td>1</td>\n",
              "    </tr>\n",
              "    <tr>\n",
              "      <th>4</th>\n",
              "      <td>2010</td>\n",
              "      <td>Misc</td>\n",
              "      <td>1</td>\n",
              "    </tr>\n",
              "    <tr>\n",
              "      <th>5</th>\n",
              "      <td>2010</td>\n",
              "      <td>Platform</td>\n",
              "      <td>1</td>\n",
              "    </tr>\n",
              "  </tbody>\n",
              "</table>\n",
              "</div>"
            ],
            "text/plain": [
              "   Year      Genre  Count\n",
              "1  2008     Action      1\n",
              "2  2009     Action      1\n",
              "3  2010  Adventure      1\n",
              "4  2010       Misc      1\n",
              "5  2010   Platform      1"
            ]
          },
          "metadata": {
            "tags": []
          },
          "execution_count": 104
        }
      ]
    },
    {
      "cell_type": "code",
      "metadata": {
        "colab": {
          "base_uri": "https://localhost:8080/",
          "height": 204
        },
        "id": "sOzvMWqhutZg",
        "outputId": "05f62ac2-0c09-45b8-f6cf-d828593f510b"
      },
      "source": [
        "df_year5 = df_year4.groupby(by = ['Year', 'Genre'], as_index = False).sum()\r\n",
        "for i in reversed(range(len(df_year5))):\r\n",
        "  if df_year5.iloc[i, 0] == 2017:\r\n",
        "    df_year5 = df_year5.drop(i)\r\n",
        "  elif df_year5.iloc[i, 0] == 2020:\r\n",
        "    df_year5 = df_year5.drop(i)\r\n",
        "df_year5.head()"
      ],
      "execution_count": 105,
      "outputs": [
        {
          "output_type": "execute_result",
          "data": {
            "text/html": [
              "<div>\n",
              "<style scoped>\n",
              "    .dataframe tbody tr th:only-of-type {\n",
              "        vertical-align: middle;\n",
              "    }\n",
              "\n",
              "    .dataframe tbody tr th {\n",
              "        vertical-align: top;\n",
              "    }\n",
              "\n",
              "    .dataframe thead th {\n",
              "        text-align: right;\n",
              "    }\n",
              "</style>\n",
              "<table border=\"1\" class=\"dataframe\">\n",
              "  <thead>\n",
              "    <tr style=\"text-align: right;\">\n",
              "      <th></th>\n",
              "      <th>Year</th>\n",
              "      <th>Genre</th>\n",
              "      <th>Count</th>\n",
              "    </tr>\n",
              "  </thead>\n",
              "  <tbody>\n",
              "    <tr>\n",
              "      <th>0</th>\n",
              "      <td>1980</td>\n",
              "      <td>Action</td>\n",
              "      <td>1</td>\n",
              "    </tr>\n",
              "    <tr>\n",
              "      <th>1</th>\n",
              "      <td>1980</td>\n",
              "      <td>Fighting</td>\n",
              "      <td>1</td>\n",
              "    </tr>\n",
              "    <tr>\n",
              "      <th>2</th>\n",
              "      <td>1980</td>\n",
              "      <td>Misc</td>\n",
              "      <td>4</td>\n",
              "    </tr>\n",
              "    <tr>\n",
              "      <th>3</th>\n",
              "      <td>1980</td>\n",
              "      <td>Shooter</td>\n",
              "      <td>2</td>\n",
              "    </tr>\n",
              "    <tr>\n",
              "      <th>4</th>\n",
              "      <td>1981</td>\n",
              "      <td>Action</td>\n",
              "      <td>25</td>\n",
              "    </tr>\n",
              "  </tbody>\n",
              "</table>\n",
              "</div>"
            ],
            "text/plain": [
              "   Year     Genre  Count\n",
              "0  1980    Action      1\n",
              "1  1980  Fighting      1\n",
              "2  1980      Misc      4\n",
              "3  1980   Shooter      2\n",
              "4  1981    Action     25"
            ]
          },
          "metadata": {
            "tags": []
          },
          "execution_count": 105
        }
      ]
    },
    {
      "cell_type": "markdown",
      "metadata": {
        "id": "R8GzpWSx2mav"
      },
      "source": [
        "✍️\r\n",
        "\r\n",
        "**1) 귀무가설$H_0:$ 게임 장르와 연도는 연관성이 없다.(상호 독립이다.)**\r\n",
        "\r\n",
        "**2) 대안가설$H_1:$ 게임 장르와 연도는 연관성이 있다.**\r\n",
        "\r\n",
        "**3) 신뢰도: 99%:** $\\alpha = 0.01$"
      ]
    },
    {
      "cell_type": "markdown",
      "metadata": {
        "id": "lMcJZlxua20r"
      },
      "source": [
        "######✍️ library쓰기위해 wide형태로 만들어주기, 각 셀의 빈도가 5 이상이어야 하기 때문에 1995-2015년도 사이의 데이터 분석"
      ]
    },
    {
      "cell_type": "code",
      "metadata": {
        "colab": {
          "base_uri": "https://localhost:8080/",
          "height": 235
        },
        "id": "JJsVCWwWzWY2",
        "outputId": "1548090b-811f-4097-806a-3bb1364b1381"
      },
      "source": [
        "df_year_chi = df_year5.pivot_table(index = 'Year', columns = 'Genre', values = 'Count')\r\n",
        "df_year_chi = df_year_chi.fillna(0)\r\n",
        "df_year_chi = df_year_chi.applymap(int)\r\n",
        "df_year_chi = df_year_chi[15:-1]\r\n",
        "df_year_chi.head()"
      ],
      "execution_count": 106,
      "outputs": [
        {
          "output_type": "execute_result",
          "data": {
            "text/html": [
              "<div>\n",
              "<style scoped>\n",
              "    .dataframe tbody tr th:only-of-type {\n",
              "        vertical-align: middle;\n",
              "    }\n",
              "\n",
              "    .dataframe tbody tr th {\n",
              "        vertical-align: top;\n",
              "    }\n",
              "\n",
              "    .dataframe thead th {\n",
              "        text-align: right;\n",
              "    }\n",
              "</style>\n",
              "<table border=\"1\" class=\"dataframe\">\n",
              "  <thead>\n",
              "    <tr style=\"text-align: right;\">\n",
              "      <th>Genre</th>\n",
              "      <th>Action</th>\n",
              "      <th>Adventure</th>\n",
              "      <th>Fighting</th>\n",
              "      <th>Misc</th>\n",
              "      <th>Platform</th>\n",
              "      <th>Puzzle</th>\n",
              "      <th>Racing</th>\n",
              "      <th>Role-Playing</th>\n",
              "      <th>Shooter</th>\n",
              "      <th>Simulation</th>\n",
              "      <th>Sports</th>\n",
              "      <th>Strategy</th>\n",
              "    </tr>\n",
              "    <tr>\n",
              "      <th>Year</th>\n",
              "      <th></th>\n",
              "      <th></th>\n",
              "      <th></th>\n",
              "      <th></th>\n",
              "      <th></th>\n",
              "      <th></th>\n",
              "      <th></th>\n",
              "      <th></th>\n",
              "      <th></th>\n",
              "      <th></th>\n",
              "      <th></th>\n",
              "      <th></th>\n",
              "    </tr>\n",
              "  </thead>\n",
              "  <tbody>\n",
              "    <tr>\n",
              "      <th>1995</th>\n",
              "      <td>8</td>\n",
              "      <td>13</td>\n",
              "      <td>29</td>\n",
              "      <td>22</td>\n",
              "      <td>13</td>\n",
              "      <td>12</td>\n",
              "      <td>12</td>\n",
              "      <td>24</td>\n",
              "      <td>29</td>\n",
              "      <td>14</td>\n",
              "      <td>29</td>\n",
              "      <td>14</td>\n",
              "    </tr>\n",
              "    <tr>\n",
              "      <th>1996</th>\n",
              "      <td>20</td>\n",
              "      <td>17</td>\n",
              "      <td>30</td>\n",
              "      <td>23</td>\n",
              "      <td>14</td>\n",
              "      <td>9</td>\n",
              "      <td>21</td>\n",
              "      <td>28</td>\n",
              "      <td>23</td>\n",
              "      <td>13</td>\n",
              "      <td>52</td>\n",
              "      <td>12</td>\n",
              "    </tr>\n",
              "    <tr>\n",
              "      <th>1997</th>\n",
              "      <td>31</td>\n",
              "      <td>14</td>\n",
              "      <td>28</td>\n",
              "      <td>12</td>\n",
              "      <td>18</td>\n",
              "      <td>14</td>\n",
              "      <td>36</td>\n",
              "      <td>23</td>\n",
              "      <td>27</td>\n",
              "      <td>19</td>\n",
              "      <td>46</td>\n",
              "      <td>21</td>\n",
              "    </tr>\n",
              "    <tr>\n",
              "      <th>1998</th>\n",
              "      <td>44</td>\n",
              "      <td>23</td>\n",
              "      <td>41</td>\n",
              "      <td>21</td>\n",
              "      <td>25</td>\n",
              "      <td>13</td>\n",
              "      <td>48</td>\n",
              "      <td>26</td>\n",
              "      <td>23</td>\n",
              "      <td>8</td>\n",
              "      <td>70</td>\n",
              "      <td>35</td>\n",
              "    </tr>\n",
              "    <tr>\n",
              "      <th>1999</th>\n",
              "      <td>39</td>\n",
              "      <td>19</td>\n",
              "      <td>24</td>\n",
              "      <td>25</td>\n",
              "      <td>18</td>\n",
              "      <td>6</td>\n",
              "      <td>49</td>\n",
              "      <td>32</td>\n",
              "      <td>16</td>\n",
              "      <td>20</td>\n",
              "      <td>62</td>\n",
              "      <td>26</td>\n",
              "    </tr>\n",
              "  </tbody>\n",
              "</table>\n",
              "</div>"
            ],
            "text/plain": [
              "Genre  Action  Adventure  Fighting  Misc  ...  Shooter  Simulation  Sports  Strategy\n",
              "Year                                      ...                                       \n",
              "1995        8         13        29    22  ...       29          14      29        14\n",
              "1996       20         17        30    23  ...       23          13      52        12\n",
              "1997       31         14        28    12  ...       27          19      46        21\n",
              "1998       44         23        41    21  ...       23           8      70        35\n",
              "1999       39         19        24    25  ...       16          20      62        26\n",
              "\n",
              "[5 rows x 12 columns]"
            ]
          },
          "metadata": {
            "tags": []
          },
          "execution_count": 106
        }
      ]
    },
    {
      "cell_type": "code",
      "metadata": {
        "colab": {
          "base_uri": "https://localhost:8080/"
        },
        "id": "UzH7KVXhz7FE",
        "outputId": "ac7dfbf0-b166-4c03-c35b-3c5aa5f5430b"
      },
      "source": [
        "chi2_contingency(df_year_chi)[0:3]"
      ],
      "execution_count": 107,
      "outputs": [
        {
          "output_type": "execute_result",
          "data": {
            "text/plain": [
              "(2123.2628519138293, 4.549275444508991e-308, 220)"
            ]
          },
          "metadata": {
            "tags": []
          },
          "execution_count": 107
        }
      ]
    },
    {
      "cell_type": "markdown",
      "metadata": {
        "id": "J1qN4j9Z1Wzt"
      },
      "source": [
        "**$X^2$:** 2123.2628519138293\r\n",
        "\r\n",
        "**p-value:** 4.549275444508991e-308\r\n",
        "\r\n",
        "**Degrees of freedom:** 220"
      ]
    },
    {
      "cell_type": "markdown",
      "metadata": {
        "id": "SOcck32s1meE"
      },
      "source": [
        "👉 $Reject H_0$\r\n",
        "\r\n",
        "게임 장르와 연도는 신뢰수준 99%로 연관성이 없다고 볼 수 있다."
      ]
    },
    {
      "cell_type": "markdown",
      "metadata": {
        "id": "lUT-0CH-4KyY"
      },
      "source": [
        "# 🙌 Chi-square Test 끝"
      ]
    },
    {
      "cell_type": "markdown",
      "metadata": {
        "id": "ndVZhSFD_y6C"
      },
      "source": [
        "# 🧾같은 방법으로 Platform 트렌드를 살펴보자"
      ]
    },
    {
      "cell_type": "code",
      "metadata": {
        "colab": {
          "base_uri": "https://localhost:8080/",
          "height": 0
        },
        "id": "95JDhj_ZARfA",
        "outputId": "0260b4dc-116b-4a8c-f275-616cda86cea3"
      },
      "source": [
        "df_plat = df\r\n",
        "df_plat['Sales'] = df_plat['NA'] + df_plat['EU'] + df_plat['JP'] + df_plat['Other']\r\n",
        "df_plat = df_plat[['Year', 'Platform', 'Sales']]\r\n",
        "df_plat.head()"
      ],
      "execution_count": 108,
      "outputs": [
        {
          "output_type": "execute_result",
          "data": {
            "text/html": [
              "<div>\n",
              "<style scoped>\n",
              "    .dataframe tbody tr th:only-of-type {\n",
              "        vertical-align: middle;\n",
              "    }\n",
              "\n",
              "    .dataframe tbody tr th {\n",
              "        vertical-align: top;\n",
              "    }\n",
              "\n",
              "    .dataframe thead th {\n",
              "        text-align: right;\n",
              "    }\n",
              "</style>\n",
              "<table border=\"1\" class=\"dataframe\">\n",
              "  <thead>\n",
              "    <tr style=\"text-align: right;\">\n",
              "      <th></th>\n",
              "      <th>Year</th>\n",
              "      <th>Platform</th>\n",
              "      <th>Sales</th>\n",
              "    </tr>\n",
              "  </thead>\n",
              "  <tbody>\n",
              "    <tr>\n",
              "      <th>1</th>\n",
              "      <td>2008</td>\n",
              "      <td>DS</td>\n",
              "      <td>0.04</td>\n",
              "    </tr>\n",
              "    <tr>\n",
              "      <th>2</th>\n",
              "      <td>2009</td>\n",
              "      <td>Wii</td>\n",
              "      <td>0.18</td>\n",
              "    </tr>\n",
              "    <tr>\n",
              "      <th>3</th>\n",
              "      <td>2010</td>\n",
              "      <td>PSP</td>\n",
              "      <td>0.02</td>\n",
              "    </tr>\n",
              "    <tr>\n",
              "      <th>4</th>\n",
              "      <td>2010</td>\n",
              "      <td>DS</td>\n",
              "      <td>0.04</td>\n",
              "    </tr>\n",
              "    <tr>\n",
              "      <th>5</th>\n",
              "      <td>2010</td>\n",
              "      <td>PS3</td>\n",
              "      <td>0.25</td>\n",
              "    </tr>\n",
              "  </tbody>\n",
              "</table>\n",
              "</div>"
            ],
            "text/plain": [
              "   Year Platform  Sales\n",
              "1  2008       DS   0.04\n",
              "2  2009      Wii   0.18\n",
              "3  2010      PSP   0.02\n",
              "4  2010       DS   0.04\n",
              "5  2010      PS3   0.25"
            ]
          },
          "metadata": {
            "tags": []
          },
          "execution_count": 108
        }
      ]
    },
    {
      "cell_type": "code",
      "metadata": {
        "colab": {
          "base_uri": "https://localhost:8080/",
          "height": 0
        },
        "id": "eiJODxBNyr4a",
        "outputId": "8d551f5a-a0c8-431b-ab8a-f0792586cd09"
      },
      "source": [
        "df_plat = df_plat.groupby(by = ['Year', 'Platform'], as_index = False).sum()\r\n",
        "for i in reversed(range(len(df_plat))):\r\n",
        "  if df_plat.iloc[i, 0] == 2017:\r\n",
        "    df_plat = df_plat.drop(i)\r\n",
        "  elif df_plat.iloc[i, 0] == 2020:\r\n",
        "    df_plat = df_plat.drop(i)\r\n",
        "df_plat.head()"
      ],
      "execution_count": 109,
      "outputs": [
        {
          "output_type": "execute_result",
          "data": {
            "text/html": [
              "<div>\n",
              "<style scoped>\n",
              "    .dataframe tbody tr th:only-of-type {\n",
              "        vertical-align: middle;\n",
              "    }\n",
              "\n",
              "    .dataframe tbody tr th {\n",
              "        vertical-align: top;\n",
              "    }\n",
              "\n",
              "    .dataframe thead th {\n",
              "        text-align: right;\n",
              "    }\n",
              "</style>\n",
              "<table border=\"1\" class=\"dataframe\">\n",
              "  <thead>\n",
              "    <tr style=\"text-align: right;\">\n",
              "      <th></th>\n",
              "      <th>Year</th>\n",
              "      <th>Platform</th>\n",
              "      <th>Sales</th>\n",
              "    </tr>\n",
              "  </thead>\n",
              "  <tbody>\n",
              "    <tr>\n",
              "      <th>0</th>\n",
              "      <td>1980</td>\n",
              "      <td>Unknown</td>\n",
              "      <td>10.88</td>\n",
              "    </tr>\n",
              "    <tr>\n",
              "      <th>1</th>\n",
              "      <td>1981</td>\n",
              "      <td>Unknown</td>\n",
              "      <td>35.68</td>\n",
              "    </tr>\n",
              "    <tr>\n",
              "      <th>2</th>\n",
              "      <td>1982</td>\n",
              "      <td>Unknown</td>\n",
              "      <td>28.88</td>\n",
              "    </tr>\n",
              "    <tr>\n",
              "      <th>3</th>\n",
              "      <td>1983</td>\n",
              "      <td>NES</td>\n",
              "      <td>10.96</td>\n",
              "    </tr>\n",
              "    <tr>\n",
              "      <th>4</th>\n",
              "      <td>1983</td>\n",
              "      <td>Unknown</td>\n",
              "      <td>5.84</td>\n",
              "    </tr>\n",
              "  </tbody>\n",
              "</table>\n",
              "</div>"
            ],
            "text/plain": [
              "   Year Platform  Sales\n",
              "0  1980  Unknown  10.88\n",
              "1  1981  Unknown  35.68\n",
              "2  1982  Unknown  28.88\n",
              "3  1983      NES  10.96\n",
              "4  1983  Unknown   5.84"
            ]
          },
          "metadata": {
            "tags": []
          },
          "execution_count": 109
        }
      ]
    },
    {
      "cell_type": "code",
      "metadata": {
        "colab": {
          "base_uri": "https://localhost:8080/",
          "height": 0
        },
        "id": "MZff46YbuQDO",
        "outputId": "fb1ddd43-fb03-4008-e18c-e69b87fc6b9f"
      },
      "source": [
        "df_pivot_plat = df_plat.pivot_table(index = 'Year', columns = 'Platform', values = 'Sales')\r\n",
        "df_pivot_plat = df_pivot_plat.fillna(0)\r\n",
        "df_pivot_plat.head()"
      ],
      "execution_count": 110,
      "outputs": [
        {
          "output_type": "execute_result",
          "data": {
            "text/html": [
              "<div>\n",
              "<style scoped>\n",
              "    .dataframe tbody tr th:only-of-type {\n",
              "        vertical-align: middle;\n",
              "    }\n",
              "\n",
              "    .dataframe tbody tr th {\n",
              "        vertical-align: top;\n",
              "    }\n",
              "\n",
              "    .dataframe thead th {\n",
              "        text-align: right;\n",
              "    }\n",
              "</style>\n",
              "<table border=\"1\" class=\"dataframe\">\n",
              "  <thead>\n",
              "    <tr style=\"text-align: right;\">\n",
              "      <th>Platform</th>\n",
              "      <th>3DO</th>\n",
              "      <th>3DS</th>\n",
              "      <th>DC</th>\n",
              "      <th>DS</th>\n",
              "      <th>GB</th>\n",
              "      <th>GBA</th>\n",
              "      <th>GC</th>\n",
              "      <th>GEN</th>\n",
              "      <th>GG</th>\n",
              "      <th>N64</th>\n",
              "      <th>NES</th>\n",
              "      <th>NG</th>\n",
              "      <th>PC</th>\n",
              "      <th>PCFX</th>\n",
              "      <th>PS</th>\n",
              "      <th>PS2</th>\n",
              "      <th>PS3</th>\n",
              "      <th>PS4</th>\n",
              "      <th>PSP</th>\n",
              "      <th>PSV</th>\n",
              "      <th>SAT</th>\n",
              "      <th>SCD</th>\n",
              "      <th>SNES</th>\n",
              "      <th>TG16</th>\n",
              "      <th>Unknown</th>\n",
              "      <th>WS</th>\n",
              "      <th>Wii</th>\n",
              "      <th>WiiU</th>\n",
              "      <th>X360</th>\n",
              "      <th>XB</th>\n",
              "      <th>XOne</th>\n",
              "    </tr>\n",
              "    <tr>\n",
              "      <th>Year</th>\n",
              "      <th></th>\n",
              "      <th></th>\n",
              "      <th></th>\n",
              "      <th></th>\n",
              "      <th></th>\n",
              "      <th></th>\n",
              "      <th></th>\n",
              "      <th></th>\n",
              "      <th></th>\n",
              "      <th></th>\n",
              "      <th></th>\n",
              "      <th></th>\n",
              "      <th></th>\n",
              "      <th></th>\n",
              "      <th></th>\n",
              "      <th></th>\n",
              "      <th></th>\n",
              "      <th></th>\n",
              "      <th></th>\n",
              "      <th></th>\n",
              "      <th></th>\n",
              "      <th></th>\n",
              "      <th></th>\n",
              "      <th></th>\n",
              "      <th></th>\n",
              "      <th></th>\n",
              "      <th></th>\n",
              "      <th></th>\n",
              "      <th></th>\n",
              "      <th></th>\n",
              "      <th></th>\n",
              "    </tr>\n",
              "  </thead>\n",
              "  <tbody>\n",
              "    <tr>\n",
              "      <th>1980</th>\n",
              "      <td>0.0</td>\n",
              "      <td>0.0</td>\n",
              "      <td>0.0</td>\n",
              "      <td>0.0</td>\n",
              "      <td>0.0</td>\n",
              "      <td>0.0</td>\n",
              "      <td>0.0</td>\n",
              "      <td>0.0</td>\n",
              "      <td>0.0</td>\n",
              "      <td>0.0</td>\n",
              "      <td>0.00</td>\n",
              "      <td>0.0</td>\n",
              "      <td>0.0</td>\n",
              "      <td>0.0</td>\n",
              "      <td>0.0</td>\n",
              "      <td>0.0</td>\n",
              "      <td>0.0</td>\n",
              "      <td>0.0</td>\n",
              "      <td>0.0</td>\n",
              "      <td>0.0</td>\n",
              "      <td>0.0</td>\n",
              "      <td>0.0</td>\n",
              "      <td>0.0</td>\n",
              "      <td>0.0</td>\n",
              "      <td>10.88</td>\n",
              "      <td>0.0</td>\n",
              "      <td>0.0</td>\n",
              "      <td>0.0</td>\n",
              "      <td>0.0</td>\n",
              "      <td>0.0</td>\n",
              "      <td>0.0</td>\n",
              "    </tr>\n",
              "    <tr>\n",
              "      <th>1981</th>\n",
              "      <td>0.0</td>\n",
              "      <td>0.0</td>\n",
              "      <td>0.0</td>\n",
              "      <td>0.0</td>\n",
              "      <td>0.0</td>\n",
              "      <td>0.0</td>\n",
              "      <td>0.0</td>\n",
              "      <td>0.0</td>\n",
              "      <td>0.0</td>\n",
              "      <td>0.0</td>\n",
              "      <td>0.00</td>\n",
              "      <td>0.0</td>\n",
              "      <td>0.0</td>\n",
              "      <td>0.0</td>\n",
              "      <td>0.0</td>\n",
              "      <td>0.0</td>\n",
              "      <td>0.0</td>\n",
              "      <td>0.0</td>\n",
              "      <td>0.0</td>\n",
              "      <td>0.0</td>\n",
              "      <td>0.0</td>\n",
              "      <td>0.0</td>\n",
              "      <td>0.0</td>\n",
              "      <td>0.0</td>\n",
              "      <td>35.68</td>\n",
              "      <td>0.0</td>\n",
              "      <td>0.0</td>\n",
              "      <td>0.0</td>\n",
              "      <td>0.0</td>\n",
              "      <td>0.0</td>\n",
              "      <td>0.0</td>\n",
              "    </tr>\n",
              "    <tr>\n",
              "      <th>1982</th>\n",
              "      <td>0.0</td>\n",
              "      <td>0.0</td>\n",
              "      <td>0.0</td>\n",
              "      <td>0.0</td>\n",
              "      <td>0.0</td>\n",
              "      <td>0.0</td>\n",
              "      <td>0.0</td>\n",
              "      <td>0.0</td>\n",
              "      <td>0.0</td>\n",
              "      <td>0.0</td>\n",
              "      <td>0.00</td>\n",
              "      <td>0.0</td>\n",
              "      <td>0.0</td>\n",
              "      <td>0.0</td>\n",
              "      <td>0.0</td>\n",
              "      <td>0.0</td>\n",
              "      <td>0.0</td>\n",
              "      <td>0.0</td>\n",
              "      <td>0.0</td>\n",
              "      <td>0.0</td>\n",
              "      <td>0.0</td>\n",
              "      <td>0.0</td>\n",
              "      <td>0.0</td>\n",
              "      <td>0.0</td>\n",
              "      <td>28.88</td>\n",
              "      <td>0.0</td>\n",
              "      <td>0.0</td>\n",
              "      <td>0.0</td>\n",
              "      <td>0.0</td>\n",
              "      <td>0.0</td>\n",
              "      <td>0.0</td>\n",
              "    </tr>\n",
              "    <tr>\n",
              "      <th>1983</th>\n",
              "      <td>0.0</td>\n",
              "      <td>0.0</td>\n",
              "      <td>0.0</td>\n",
              "      <td>0.0</td>\n",
              "      <td>0.0</td>\n",
              "      <td>0.0</td>\n",
              "      <td>0.0</td>\n",
              "      <td>0.0</td>\n",
              "      <td>0.0</td>\n",
              "      <td>0.0</td>\n",
              "      <td>10.96</td>\n",
              "      <td>0.0</td>\n",
              "      <td>0.0</td>\n",
              "      <td>0.0</td>\n",
              "      <td>0.0</td>\n",
              "      <td>0.0</td>\n",
              "      <td>0.0</td>\n",
              "      <td>0.0</td>\n",
              "      <td>0.0</td>\n",
              "      <td>0.0</td>\n",
              "      <td>0.0</td>\n",
              "      <td>0.0</td>\n",
              "      <td>0.0</td>\n",
              "      <td>0.0</td>\n",
              "      <td>5.84</td>\n",
              "      <td>0.0</td>\n",
              "      <td>0.0</td>\n",
              "      <td>0.0</td>\n",
              "      <td>0.0</td>\n",
              "      <td>0.0</td>\n",
              "      <td>0.0</td>\n",
              "    </tr>\n",
              "    <tr>\n",
              "      <th>1984</th>\n",
              "      <td>0.0</td>\n",
              "      <td>0.0</td>\n",
              "      <td>0.0</td>\n",
              "      <td>0.0</td>\n",
              "      <td>0.0</td>\n",
              "      <td>0.0</td>\n",
              "      <td>0.0</td>\n",
              "      <td>0.0</td>\n",
              "      <td>0.0</td>\n",
              "      <td>0.0</td>\n",
              "      <td>50.08</td>\n",
              "      <td>0.0</td>\n",
              "      <td>0.0</td>\n",
              "      <td>0.0</td>\n",
              "      <td>0.0</td>\n",
              "      <td>0.0</td>\n",
              "      <td>0.0</td>\n",
              "      <td>0.0</td>\n",
              "      <td>0.0</td>\n",
              "      <td>0.0</td>\n",
              "      <td>0.0</td>\n",
              "      <td>0.0</td>\n",
              "      <td>0.0</td>\n",
              "      <td>0.0</td>\n",
              "      <td>0.27</td>\n",
              "      <td>0.0</td>\n",
              "      <td>0.0</td>\n",
              "      <td>0.0</td>\n",
              "      <td>0.0</td>\n",
              "      <td>0.0</td>\n",
              "      <td>0.0</td>\n",
              "    </tr>\n",
              "  </tbody>\n",
              "</table>\n",
              "</div>"
            ],
            "text/plain": [
              "Platform  3DO  3DS   DC   DS   GB  GBA  ...   WS  Wii  WiiU  X360   XB  XOne\n",
              "Year                                    ...                                 \n",
              "1980      0.0  0.0  0.0  0.0  0.0  0.0  ...  0.0  0.0   0.0   0.0  0.0   0.0\n",
              "1981      0.0  0.0  0.0  0.0  0.0  0.0  ...  0.0  0.0   0.0   0.0  0.0   0.0\n",
              "1982      0.0  0.0  0.0  0.0  0.0  0.0  ...  0.0  0.0   0.0   0.0  0.0   0.0\n",
              "1983      0.0  0.0  0.0  0.0  0.0  0.0  ...  0.0  0.0   0.0   0.0  0.0   0.0\n",
              "1984      0.0  0.0  0.0  0.0  0.0  0.0  ...  0.0  0.0   0.0   0.0  0.0   0.0\n",
              "\n",
              "[5 rows x 31 columns]"
            ]
          },
          "metadata": {
            "tags": []
          },
          "execution_count": 110
        }
      ]
    },
    {
      "cell_type": "code",
      "metadata": {
        "colab": {
          "base_uri": "https://localhost:8080/"
        },
        "id": "h7fthyz0uyll",
        "outputId": "ea250edd-c654-4f57-e06d-4af12def1fdd"
      },
      "source": [
        "df_pivot_plat.shape"
      ],
      "execution_count": 111,
      "outputs": [
        {
          "output_type": "execute_result",
          "data": {
            "text/plain": [
              "(37, 31)"
            ]
          },
          "metadata": {
            "tags": []
          },
          "execution_count": 111
        }
      ]
    },
    {
      "cell_type": "code",
      "metadata": {
        "id": "MWdkSCsHoImc",
        "outputId": "b65f8520-2bcd-435e-f2a4-eb1fbc82de68",
        "colab": {
          "base_uri": "https://localhost:8080/"
        }
      },
      "source": [
        "df_pivot_col_plat = df_pivot_plat.keys()\r\n",
        "len(df_pivot_col_plat)"
      ],
      "execution_count": 112,
      "outputs": [
        {
          "output_type": "execute_result",
          "data": {
            "text/plain": [
              "31"
            ]
          },
          "metadata": {
            "tags": []
          },
          "execution_count": 112
        }
      ]
    },
    {
      "cell_type": "code",
      "metadata": {
        "colab": {
          "base_uri": "https://localhost:8080/",
          "height": 0
        },
        "id": "MHmZGFXouYcP",
        "outputId": "f6ab84a1-2458-4d68-ba95-8f9392938225"
      },
      "source": [
        "df_pivot_plat['maxvalue'] = df_pivot_plat.max(axis = 1)\r\n",
        "df_pivot_plat['Rank1'] = 0\r\n",
        "df_pivot_plat.head()"
      ],
      "execution_count": 113,
      "outputs": [
        {
          "output_type": "execute_result",
          "data": {
            "text/html": [
              "<div>\n",
              "<style scoped>\n",
              "    .dataframe tbody tr th:only-of-type {\n",
              "        vertical-align: middle;\n",
              "    }\n",
              "\n",
              "    .dataframe tbody tr th {\n",
              "        vertical-align: top;\n",
              "    }\n",
              "\n",
              "    .dataframe thead th {\n",
              "        text-align: right;\n",
              "    }\n",
              "</style>\n",
              "<table border=\"1\" class=\"dataframe\">\n",
              "  <thead>\n",
              "    <tr style=\"text-align: right;\">\n",
              "      <th>Platform</th>\n",
              "      <th>3DO</th>\n",
              "      <th>3DS</th>\n",
              "      <th>DC</th>\n",
              "      <th>DS</th>\n",
              "      <th>GB</th>\n",
              "      <th>GBA</th>\n",
              "      <th>GC</th>\n",
              "      <th>GEN</th>\n",
              "      <th>GG</th>\n",
              "      <th>N64</th>\n",
              "      <th>NES</th>\n",
              "      <th>NG</th>\n",
              "      <th>PC</th>\n",
              "      <th>PCFX</th>\n",
              "      <th>PS</th>\n",
              "      <th>PS2</th>\n",
              "      <th>PS3</th>\n",
              "      <th>PS4</th>\n",
              "      <th>PSP</th>\n",
              "      <th>PSV</th>\n",
              "      <th>SAT</th>\n",
              "      <th>SCD</th>\n",
              "      <th>SNES</th>\n",
              "      <th>TG16</th>\n",
              "      <th>Unknown</th>\n",
              "      <th>WS</th>\n",
              "      <th>Wii</th>\n",
              "      <th>WiiU</th>\n",
              "      <th>X360</th>\n",
              "      <th>XB</th>\n",
              "      <th>XOne</th>\n",
              "      <th>maxvalue</th>\n",
              "      <th>Rank1</th>\n",
              "    </tr>\n",
              "    <tr>\n",
              "      <th>Year</th>\n",
              "      <th></th>\n",
              "      <th></th>\n",
              "      <th></th>\n",
              "      <th></th>\n",
              "      <th></th>\n",
              "      <th></th>\n",
              "      <th></th>\n",
              "      <th></th>\n",
              "      <th></th>\n",
              "      <th></th>\n",
              "      <th></th>\n",
              "      <th></th>\n",
              "      <th></th>\n",
              "      <th></th>\n",
              "      <th></th>\n",
              "      <th></th>\n",
              "      <th></th>\n",
              "      <th></th>\n",
              "      <th></th>\n",
              "      <th></th>\n",
              "      <th></th>\n",
              "      <th></th>\n",
              "      <th></th>\n",
              "      <th></th>\n",
              "      <th></th>\n",
              "      <th></th>\n",
              "      <th></th>\n",
              "      <th></th>\n",
              "      <th></th>\n",
              "      <th></th>\n",
              "      <th></th>\n",
              "      <th></th>\n",
              "      <th></th>\n",
              "    </tr>\n",
              "  </thead>\n",
              "  <tbody>\n",
              "    <tr>\n",
              "      <th>1980</th>\n",
              "      <td>0.0</td>\n",
              "      <td>0.0</td>\n",
              "      <td>0.0</td>\n",
              "      <td>0.0</td>\n",
              "      <td>0.0</td>\n",
              "      <td>0.0</td>\n",
              "      <td>0.0</td>\n",
              "      <td>0.0</td>\n",
              "      <td>0.0</td>\n",
              "      <td>0.0</td>\n",
              "      <td>0.00</td>\n",
              "      <td>0.0</td>\n",
              "      <td>0.0</td>\n",
              "      <td>0.0</td>\n",
              "      <td>0.0</td>\n",
              "      <td>0.0</td>\n",
              "      <td>0.0</td>\n",
              "      <td>0.0</td>\n",
              "      <td>0.0</td>\n",
              "      <td>0.0</td>\n",
              "      <td>0.0</td>\n",
              "      <td>0.0</td>\n",
              "      <td>0.0</td>\n",
              "      <td>0.0</td>\n",
              "      <td>10.88</td>\n",
              "      <td>0.0</td>\n",
              "      <td>0.0</td>\n",
              "      <td>0.0</td>\n",
              "      <td>0.0</td>\n",
              "      <td>0.0</td>\n",
              "      <td>0.0</td>\n",
              "      <td>10.88</td>\n",
              "      <td>0</td>\n",
              "    </tr>\n",
              "    <tr>\n",
              "      <th>1981</th>\n",
              "      <td>0.0</td>\n",
              "      <td>0.0</td>\n",
              "      <td>0.0</td>\n",
              "      <td>0.0</td>\n",
              "      <td>0.0</td>\n",
              "      <td>0.0</td>\n",
              "      <td>0.0</td>\n",
              "      <td>0.0</td>\n",
              "      <td>0.0</td>\n",
              "      <td>0.0</td>\n",
              "      <td>0.00</td>\n",
              "      <td>0.0</td>\n",
              "      <td>0.0</td>\n",
              "      <td>0.0</td>\n",
              "      <td>0.0</td>\n",
              "      <td>0.0</td>\n",
              "      <td>0.0</td>\n",
              "      <td>0.0</td>\n",
              "      <td>0.0</td>\n",
              "      <td>0.0</td>\n",
              "      <td>0.0</td>\n",
              "      <td>0.0</td>\n",
              "      <td>0.0</td>\n",
              "      <td>0.0</td>\n",
              "      <td>35.68</td>\n",
              "      <td>0.0</td>\n",
              "      <td>0.0</td>\n",
              "      <td>0.0</td>\n",
              "      <td>0.0</td>\n",
              "      <td>0.0</td>\n",
              "      <td>0.0</td>\n",
              "      <td>35.68</td>\n",
              "      <td>0</td>\n",
              "    </tr>\n",
              "    <tr>\n",
              "      <th>1982</th>\n",
              "      <td>0.0</td>\n",
              "      <td>0.0</td>\n",
              "      <td>0.0</td>\n",
              "      <td>0.0</td>\n",
              "      <td>0.0</td>\n",
              "      <td>0.0</td>\n",
              "      <td>0.0</td>\n",
              "      <td>0.0</td>\n",
              "      <td>0.0</td>\n",
              "      <td>0.0</td>\n",
              "      <td>0.00</td>\n",
              "      <td>0.0</td>\n",
              "      <td>0.0</td>\n",
              "      <td>0.0</td>\n",
              "      <td>0.0</td>\n",
              "      <td>0.0</td>\n",
              "      <td>0.0</td>\n",
              "      <td>0.0</td>\n",
              "      <td>0.0</td>\n",
              "      <td>0.0</td>\n",
              "      <td>0.0</td>\n",
              "      <td>0.0</td>\n",
              "      <td>0.0</td>\n",
              "      <td>0.0</td>\n",
              "      <td>28.88</td>\n",
              "      <td>0.0</td>\n",
              "      <td>0.0</td>\n",
              "      <td>0.0</td>\n",
              "      <td>0.0</td>\n",
              "      <td>0.0</td>\n",
              "      <td>0.0</td>\n",
              "      <td>28.88</td>\n",
              "      <td>0</td>\n",
              "    </tr>\n",
              "    <tr>\n",
              "      <th>1983</th>\n",
              "      <td>0.0</td>\n",
              "      <td>0.0</td>\n",
              "      <td>0.0</td>\n",
              "      <td>0.0</td>\n",
              "      <td>0.0</td>\n",
              "      <td>0.0</td>\n",
              "      <td>0.0</td>\n",
              "      <td>0.0</td>\n",
              "      <td>0.0</td>\n",
              "      <td>0.0</td>\n",
              "      <td>10.96</td>\n",
              "      <td>0.0</td>\n",
              "      <td>0.0</td>\n",
              "      <td>0.0</td>\n",
              "      <td>0.0</td>\n",
              "      <td>0.0</td>\n",
              "      <td>0.0</td>\n",
              "      <td>0.0</td>\n",
              "      <td>0.0</td>\n",
              "      <td>0.0</td>\n",
              "      <td>0.0</td>\n",
              "      <td>0.0</td>\n",
              "      <td>0.0</td>\n",
              "      <td>0.0</td>\n",
              "      <td>5.84</td>\n",
              "      <td>0.0</td>\n",
              "      <td>0.0</td>\n",
              "      <td>0.0</td>\n",
              "      <td>0.0</td>\n",
              "      <td>0.0</td>\n",
              "      <td>0.0</td>\n",
              "      <td>10.96</td>\n",
              "      <td>0</td>\n",
              "    </tr>\n",
              "    <tr>\n",
              "      <th>1984</th>\n",
              "      <td>0.0</td>\n",
              "      <td>0.0</td>\n",
              "      <td>0.0</td>\n",
              "      <td>0.0</td>\n",
              "      <td>0.0</td>\n",
              "      <td>0.0</td>\n",
              "      <td>0.0</td>\n",
              "      <td>0.0</td>\n",
              "      <td>0.0</td>\n",
              "      <td>0.0</td>\n",
              "      <td>50.08</td>\n",
              "      <td>0.0</td>\n",
              "      <td>0.0</td>\n",
              "      <td>0.0</td>\n",
              "      <td>0.0</td>\n",
              "      <td>0.0</td>\n",
              "      <td>0.0</td>\n",
              "      <td>0.0</td>\n",
              "      <td>0.0</td>\n",
              "      <td>0.0</td>\n",
              "      <td>0.0</td>\n",
              "      <td>0.0</td>\n",
              "      <td>0.0</td>\n",
              "      <td>0.0</td>\n",
              "      <td>0.27</td>\n",
              "      <td>0.0</td>\n",
              "      <td>0.0</td>\n",
              "      <td>0.0</td>\n",
              "      <td>0.0</td>\n",
              "      <td>0.0</td>\n",
              "      <td>0.0</td>\n",
              "      <td>50.08</td>\n",
              "      <td>0</td>\n",
              "    </tr>\n",
              "  </tbody>\n",
              "</table>\n",
              "</div>"
            ],
            "text/plain": [
              "Platform  3DO  3DS   DC   DS   GB  GBA  ...  WiiU  X360   XB  XOne  maxvalue  Rank1\n",
              "Year                                    ...                                        \n",
              "1980      0.0  0.0  0.0  0.0  0.0  0.0  ...   0.0   0.0  0.0   0.0     10.88      0\n",
              "1981      0.0  0.0  0.0  0.0  0.0  0.0  ...   0.0   0.0  0.0   0.0     35.68      0\n",
              "1982      0.0  0.0  0.0  0.0  0.0  0.0  ...   0.0   0.0  0.0   0.0     28.88      0\n",
              "1983      0.0  0.0  0.0  0.0  0.0  0.0  ...   0.0   0.0  0.0   0.0     10.96      0\n",
              "1984      0.0  0.0  0.0  0.0  0.0  0.0  ...   0.0   0.0  0.0   0.0     50.08      0\n",
              "\n",
              "[5 rows x 33 columns]"
            ]
          },
          "metadata": {
            "tags": []
          },
          "execution_count": 113
        }
      ]
    },
    {
      "cell_type": "code",
      "metadata": {
        "colab": {
          "base_uri": "https://localhost:8080/",
          "height": 0
        },
        "id": "QK9hC_k0uwKz",
        "outputId": "bf30da6d-f253-43eb-897e-2db27cfb1254"
      },
      "source": [
        "for i in range(len(df_pivot_plat)):\r\n",
        "  for m in range(len(df_pivot_col_plat)):\r\n",
        "    if df_pivot_plat.iloc[i, m] == df_pivot_plat.iloc[i, len(df_pivot_col_plat)]:\r\n",
        "      df_pivot_plat.iloc[i, len(df_pivot_col_plat) + 1] = df_pivot_col_plat[m]\r\n",
        "df_pivot_plat = df_pivot_plat.reset_index()\r\n",
        "df_pivot_plat.head()"
      ],
      "execution_count": 114,
      "outputs": [
        {
          "output_type": "execute_result",
          "data": {
            "text/html": [
              "<div>\n",
              "<style scoped>\n",
              "    .dataframe tbody tr th:only-of-type {\n",
              "        vertical-align: middle;\n",
              "    }\n",
              "\n",
              "    .dataframe tbody tr th {\n",
              "        vertical-align: top;\n",
              "    }\n",
              "\n",
              "    .dataframe thead th {\n",
              "        text-align: right;\n",
              "    }\n",
              "</style>\n",
              "<table border=\"1\" class=\"dataframe\">\n",
              "  <thead>\n",
              "    <tr style=\"text-align: right;\">\n",
              "      <th>Platform</th>\n",
              "      <th>Year</th>\n",
              "      <th>3DO</th>\n",
              "      <th>3DS</th>\n",
              "      <th>DC</th>\n",
              "      <th>DS</th>\n",
              "      <th>GB</th>\n",
              "      <th>GBA</th>\n",
              "      <th>GC</th>\n",
              "      <th>GEN</th>\n",
              "      <th>GG</th>\n",
              "      <th>N64</th>\n",
              "      <th>NES</th>\n",
              "      <th>NG</th>\n",
              "      <th>PC</th>\n",
              "      <th>PCFX</th>\n",
              "      <th>PS</th>\n",
              "      <th>PS2</th>\n",
              "      <th>PS3</th>\n",
              "      <th>PS4</th>\n",
              "      <th>PSP</th>\n",
              "      <th>PSV</th>\n",
              "      <th>SAT</th>\n",
              "      <th>SCD</th>\n",
              "      <th>SNES</th>\n",
              "      <th>TG16</th>\n",
              "      <th>Unknown</th>\n",
              "      <th>WS</th>\n",
              "      <th>Wii</th>\n",
              "      <th>WiiU</th>\n",
              "      <th>X360</th>\n",
              "      <th>XB</th>\n",
              "      <th>XOne</th>\n",
              "      <th>maxvalue</th>\n",
              "      <th>Rank1</th>\n",
              "    </tr>\n",
              "  </thead>\n",
              "  <tbody>\n",
              "    <tr>\n",
              "      <th>0</th>\n",
              "      <td>1980</td>\n",
              "      <td>0.0</td>\n",
              "      <td>0.0</td>\n",
              "      <td>0.0</td>\n",
              "      <td>0.0</td>\n",
              "      <td>0.0</td>\n",
              "      <td>0.0</td>\n",
              "      <td>0.0</td>\n",
              "      <td>0.0</td>\n",
              "      <td>0.0</td>\n",
              "      <td>0.0</td>\n",
              "      <td>0.00</td>\n",
              "      <td>0.0</td>\n",
              "      <td>0.0</td>\n",
              "      <td>0.0</td>\n",
              "      <td>0.0</td>\n",
              "      <td>0.0</td>\n",
              "      <td>0.0</td>\n",
              "      <td>0.0</td>\n",
              "      <td>0.0</td>\n",
              "      <td>0.0</td>\n",
              "      <td>0.0</td>\n",
              "      <td>0.0</td>\n",
              "      <td>0.0</td>\n",
              "      <td>0.0</td>\n",
              "      <td>10.88</td>\n",
              "      <td>0.0</td>\n",
              "      <td>0.0</td>\n",
              "      <td>0.0</td>\n",
              "      <td>0.0</td>\n",
              "      <td>0.0</td>\n",
              "      <td>0.0</td>\n",
              "      <td>10.88</td>\n",
              "      <td>Unknown</td>\n",
              "    </tr>\n",
              "    <tr>\n",
              "      <th>1</th>\n",
              "      <td>1981</td>\n",
              "      <td>0.0</td>\n",
              "      <td>0.0</td>\n",
              "      <td>0.0</td>\n",
              "      <td>0.0</td>\n",
              "      <td>0.0</td>\n",
              "      <td>0.0</td>\n",
              "      <td>0.0</td>\n",
              "      <td>0.0</td>\n",
              "      <td>0.0</td>\n",
              "      <td>0.0</td>\n",
              "      <td>0.00</td>\n",
              "      <td>0.0</td>\n",
              "      <td>0.0</td>\n",
              "      <td>0.0</td>\n",
              "      <td>0.0</td>\n",
              "      <td>0.0</td>\n",
              "      <td>0.0</td>\n",
              "      <td>0.0</td>\n",
              "      <td>0.0</td>\n",
              "      <td>0.0</td>\n",
              "      <td>0.0</td>\n",
              "      <td>0.0</td>\n",
              "      <td>0.0</td>\n",
              "      <td>0.0</td>\n",
              "      <td>35.68</td>\n",
              "      <td>0.0</td>\n",
              "      <td>0.0</td>\n",
              "      <td>0.0</td>\n",
              "      <td>0.0</td>\n",
              "      <td>0.0</td>\n",
              "      <td>0.0</td>\n",
              "      <td>35.68</td>\n",
              "      <td>Unknown</td>\n",
              "    </tr>\n",
              "    <tr>\n",
              "      <th>2</th>\n",
              "      <td>1982</td>\n",
              "      <td>0.0</td>\n",
              "      <td>0.0</td>\n",
              "      <td>0.0</td>\n",
              "      <td>0.0</td>\n",
              "      <td>0.0</td>\n",
              "      <td>0.0</td>\n",
              "      <td>0.0</td>\n",
              "      <td>0.0</td>\n",
              "      <td>0.0</td>\n",
              "      <td>0.0</td>\n",
              "      <td>0.00</td>\n",
              "      <td>0.0</td>\n",
              "      <td>0.0</td>\n",
              "      <td>0.0</td>\n",
              "      <td>0.0</td>\n",
              "      <td>0.0</td>\n",
              "      <td>0.0</td>\n",
              "      <td>0.0</td>\n",
              "      <td>0.0</td>\n",
              "      <td>0.0</td>\n",
              "      <td>0.0</td>\n",
              "      <td>0.0</td>\n",
              "      <td>0.0</td>\n",
              "      <td>0.0</td>\n",
              "      <td>28.88</td>\n",
              "      <td>0.0</td>\n",
              "      <td>0.0</td>\n",
              "      <td>0.0</td>\n",
              "      <td>0.0</td>\n",
              "      <td>0.0</td>\n",
              "      <td>0.0</td>\n",
              "      <td>28.88</td>\n",
              "      <td>Unknown</td>\n",
              "    </tr>\n",
              "    <tr>\n",
              "      <th>3</th>\n",
              "      <td>1983</td>\n",
              "      <td>0.0</td>\n",
              "      <td>0.0</td>\n",
              "      <td>0.0</td>\n",
              "      <td>0.0</td>\n",
              "      <td>0.0</td>\n",
              "      <td>0.0</td>\n",
              "      <td>0.0</td>\n",
              "      <td>0.0</td>\n",
              "      <td>0.0</td>\n",
              "      <td>0.0</td>\n",
              "      <td>10.96</td>\n",
              "      <td>0.0</td>\n",
              "      <td>0.0</td>\n",
              "      <td>0.0</td>\n",
              "      <td>0.0</td>\n",
              "      <td>0.0</td>\n",
              "      <td>0.0</td>\n",
              "      <td>0.0</td>\n",
              "      <td>0.0</td>\n",
              "      <td>0.0</td>\n",
              "      <td>0.0</td>\n",
              "      <td>0.0</td>\n",
              "      <td>0.0</td>\n",
              "      <td>0.0</td>\n",
              "      <td>5.84</td>\n",
              "      <td>0.0</td>\n",
              "      <td>0.0</td>\n",
              "      <td>0.0</td>\n",
              "      <td>0.0</td>\n",
              "      <td>0.0</td>\n",
              "      <td>0.0</td>\n",
              "      <td>10.96</td>\n",
              "      <td>NES</td>\n",
              "    </tr>\n",
              "    <tr>\n",
              "      <th>4</th>\n",
              "      <td>1984</td>\n",
              "      <td>0.0</td>\n",
              "      <td>0.0</td>\n",
              "      <td>0.0</td>\n",
              "      <td>0.0</td>\n",
              "      <td>0.0</td>\n",
              "      <td>0.0</td>\n",
              "      <td>0.0</td>\n",
              "      <td>0.0</td>\n",
              "      <td>0.0</td>\n",
              "      <td>0.0</td>\n",
              "      <td>50.08</td>\n",
              "      <td>0.0</td>\n",
              "      <td>0.0</td>\n",
              "      <td>0.0</td>\n",
              "      <td>0.0</td>\n",
              "      <td>0.0</td>\n",
              "      <td>0.0</td>\n",
              "      <td>0.0</td>\n",
              "      <td>0.0</td>\n",
              "      <td>0.0</td>\n",
              "      <td>0.0</td>\n",
              "      <td>0.0</td>\n",
              "      <td>0.0</td>\n",
              "      <td>0.0</td>\n",
              "      <td>0.27</td>\n",
              "      <td>0.0</td>\n",
              "      <td>0.0</td>\n",
              "      <td>0.0</td>\n",
              "      <td>0.0</td>\n",
              "      <td>0.0</td>\n",
              "      <td>0.0</td>\n",
              "      <td>50.08</td>\n",
              "      <td>NES</td>\n",
              "    </tr>\n",
              "  </tbody>\n",
              "</table>\n",
              "</div>"
            ],
            "text/plain": [
              "Platform  Year  3DO  3DS   DC   DS  ...  X360   XB  XOne  maxvalue    Rank1\n",
              "0         1980  0.0  0.0  0.0  0.0  ...   0.0  0.0   0.0     10.88  Unknown\n",
              "1         1981  0.0  0.0  0.0  0.0  ...   0.0  0.0   0.0     35.68  Unknown\n",
              "2         1982  0.0  0.0  0.0  0.0  ...   0.0  0.0   0.0     28.88  Unknown\n",
              "3         1983  0.0  0.0  0.0  0.0  ...   0.0  0.0   0.0     10.96      NES\n",
              "4         1984  0.0  0.0  0.0  0.0  ...   0.0  0.0   0.0     50.08      NES\n",
              "\n",
              "[5 rows x 34 columns]"
            ]
          },
          "metadata": {
            "tags": []
          },
          "execution_count": 114
        }
      ]
    },
    {
      "cell_type": "markdown",
      "metadata": {
        "id": "S0J7_QSsARfG"
      },
      "source": [
        "#👩‍💻 시각화 📊\r\n",
        "\r\n",
        "❗️ y축의 높낮이는 숫자적 의미를 가지지 않는다. ❗️"
      ]
    },
    {
      "cell_type": "code",
      "metadata": {
        "colab": {
          "base_uri": "https://localhost:8080/",
          "height": 0
        },
        "id": "rF4lBGtCwSoE",
        "outputId": "35653cfd-2c0f-4068-da8f-8e1b1d4f4162"
      },
      "source": [
        "plt.plot(df_pivot_plat['Year'], df_pivot_plat['Rank1'], color = 'lightgray', ls = ':', lw = 1)\r\n",
        "sns.scatterplot(x = 'Year', y = 'Rank1', data = df_pivot_plat, hue = 'Rank1', palette = 'Paired')\r\n",
        "plt.legend(bbox_to_anchor=(1, 1), loc=2)\r\n",
        "plt.show();"
      ],
      "execution_count": 115,
      "outputs": [
        {
          "output_type": "display_data",
          "data": {
            "image/png": "[encoded data removed]",
            "text/plain": [
              "<Figure size 432x288 with 1 Axes>"
            ]
          },
          "metadata": {
            "tags": [],
            "needs_background": "light"
          }
        }
      ]
    },
    {
      "cell_type": "markdown",
      "metadata": {
        "id": "4IF2RgI_ARfD"
      },
      "source": [
        "###### 👉 시간이 지남에 따라 Platform의 트렌드가 바뀌는 것을 볼 수 있다(새로운 Platform이 자꾸 나와서 유행이 바뀌는 듯 하다).\r\n"
      ]
    },
    {
      "cell_type": "code",
      "metadata": {
        "colab": {
          "base_uri": "https://localhost:8080/",
          "height": 0
        },
        "id": "yixj4AfAARfH",
        "outputId": "a36a940a-9cda-4bcd-d64d-251e8810fb26"
      },
      "source": [
        "fig = plt.gcf()\r\n",
        "\r\n",
        "fig.set_size_inches(10, 8)\r\n",
        "sns.scatterplot(x = 'Year', y = 'Platform', data = df_plat, hue = 'Platform', palette = 'Paired')\r\n",
        "plt.legend(bbox_to_anchor=(1, 1), loc=2)\r\n",
        "plt.show();"
      ],
      "execution_count": 116,
      "outputs": [
        {
          "output_type": "display_data",
          "data": {
            "image/png": "[encoded data removed]",
            "text/plain": [
              "<Figure size 720x576 with 1 Axes>"
            ]
          },
          "metadata": {
            "tags": [],
            "needs_background": "light"
          }
        }
      ]
    },
    {
      "cell_type": "markdown",
      "metadata": {
        "id": "livUsiIC4JiV"
      },
      "source": [
        "##### 👉 각 셀의 빈도수가 5 이하가 대부분이기 때문에 Chi square Test를 진행할 수 없다."
      ]
    },
    {
      "cell_type": "markdown",
      "metadata": {
        "id": "IasnPc-ul2Ro"
      },
      "source": [
        "#💵 게임당 매출 상위 1%를 통한 분석 💵\r\n",
        "\r\n",
        "#####👉 단위 게임당 매출을 통해 상위 1%를 분류하고, 그 특징들을 분석했다."
      ]
    },
    {
      "cell_type": "markdown",
      "metadata": {
        "id": "tJbp0ZwJbd4Y"
      },
      "source": [
        "# ❓매출이 높은 게임에 대한 분석 및 시각화 프로세스❓"
      ]
    },
    {
      "cell_type": "code",
      "metadata": {
        "colab": {
          "base_uri": "https://localhost:8080/",
          "height": 255
        },
        "id": "WhIHS06Vgq_P",
        "outputId": "d5c7f8ca-6b2d-4c72-ed90-a8177cadbe57"
      },
      "source": [
        "df.head()"
      ],
      "execution_count": 117,
      "outputs": [
        {
          "output_type": "execute_result",
          "data": {
            "text/html": [
              "<div>\n",
              "<style scoped>\n",
              "    .dataframe tbody tr th:only-of-type {\n",
              "        vertical-align: middle;\n",
              "    }\n",
              "\n",
              "    .dataframe tbody tr th {\n",
              "        vertical-align: top;\n",
              "    }\n",
              "\n",
              "    .dataframe thead th {\n",
              "        text-align: right;\n",
              "    }\n",
              "</style>\n",
              "<table border=\"1\" class=\"dataframe\">\n",
              "  <thead>\n",
              "    <tr style=\"text-align: right;\">\n",
              "      <th></th>\n",
              "      <th>Name</th>\n",
              "      <th>Platform</th>\n",
              "      <th>Year</th>\n",
              "      <th>Genre</th>\n",
              "      <th>Publisher</th>\n",
              "      <th>NA</th>\n",
              "      <th>EU</th>\n",
              "      <th>JP</th>\n",
              "      <th>Other</th>\n",
              "      <th>Sales</th>\n",
              "    </tr>\n",
              "  </thead>\n",
              "  <tbody>\n",
              "    <tr>\n",
              "      <th>1</th>\n",
              "      <td>Candace Kane's Candy Factory</td>\n",
              "      <td>DS</td>\n",
              "      <td>2008</td>\n",
              "      <td>Action</td>\n",
              "      <td>Destineer</td>\n",
              "      <td>0.04</td>\n",
              "      <td>0.00</td>\n",
              "      <td>0.00</td>\n",
              "      <td>0.00</td>\n",
              "      <td>0.04</td>\n",
              "    </tr>\n",
              "    <tr>\n",
              "      <th>2</th>\n",
              "      <td>The Munchables</td>\n",
              "      <td>Wii</td>\n",
              "      <td>2009</td>\n",
              "      <td>Action</td>\n",
              "      <td>Namco Bandai Games</td>\n",
              "      <td>0.17</td>\n",
              "      <td>0.00</td>\n",
              "      <td>0.00</td>\n",
              "      <td>0.01</td>\n",
              "      <td>0.18</td>\n",
              "    </tr>\n",
              "    <tr>\n",
              "      <th>3</th>\n",
              "      <td>Otome wa Oanesama Boku ni Koi Shiteru Portable</td>\n",
              "      <td>PSP</td>\n",
              "      <td>2010</td>\n",
              "      <td>Adventure</td>\n",
              "      <td>Alchemist</td>\n",
              "      <td>0.00</td>\n",
              "      <td>0.00</td>\n",
              "      <td>0.02</td>\n",
              "      <td>0.00</td>\n",
              "      <td>0.02</td>\n",
              "    </tr>\n",
              "    <tr>\n",
              "      <th>4</th>\n",
              "      <td>Deal or No Deal: Special Edition</td>\n",
              "      <td>DS</td>\n",
              "      <td>2010</td>\n",
              "      <td>Misc</td>\n",
              "      <td>Zoo Games</td>\n",
              "      <td>0.04</td>\n",
              "      <td>0.00</td>\n",
              "      <td>0.00</td>\n",
              "      <td>0.00</td>\n",
              "      <td>0.04</td>\n",
              "    </tr>\n",
              "    <tr>\n",
              "      <th>5</th>\n",
              "      <td>Ben 10 Ultimate Alien: Cosmic Destruction</td>\n",
              "      <td>PS3</td>\n",
              "      <td>2010</td>\n",
              "      <td>Platform</td>\n",
              "      <td>D3Publisher</td>\n",
              "      <td>0.12</td>\n",
              "      <td>0.09</td>\n",
              "      <td>0.00</td>\n",
              "      <td>0.04</td>\n",
              "      <td>0.25</td>\n",
              "    </tr>\n",
              "  </tbody>\n",
              "</table>\n",
              "</div>"
            ],
            "text/plain": [
              "                                             Name Platform  ...  Other Sales\n",
              "1                    Candace Kane's Candy Factory       DS  ...   0.00  0.04\n",
              "2                                  The Munchables      Wii  ...   0.01  0.18\n",
              "3  Otome wa Oanesama Boku ni Koi Shiteru Portable      PSP  ...   0.00  0.02\n",
              "4                Deal or No Deal: Special Edition       DS  ...   0.00  0.04\n",
              "5       Ben 10 Ultimate Alien: Cosmic Destruction      PS3  ...   0.04  0.25\n",
              "\n",
              "[5 rows x 10 columns]"
            ]
          },
          "metadata": {
            "tags": []
          },
          "execution_count": 117
        }
      ]
    },
    {
      "cell_type": "markdown",
      "metadata": {
        "id": "XrMhyLiFsFmi"
      },
      "source": [
        "######✍️ 상위 1%만 뽑아서 DataFrame만들기"
      ]
    },
    {
      "cell_type": "code",
      "metadata": {
        "id": "wnnrzFZIyTYf"
      },
      "source": [
        "df_sales = df\r\n",
        "df_sales['Sales'] = df_sales['NA'] + df_sales['EU'] + df_sales['JP'] + df_sales['Other']"
      ],
      "execution_count": 118,
      "outputs": []
    },
    {
      "cell_type": "code",
      "metadata": {
        "id": "VuCJ2T3-7T5Z",
        "colab": {
          "base_uri": "https://localhost:8080/"
        },
        "outputId": "f0553e5b-df90-48d1-e87b-750a97cfea5a"
      },
      "source": [
        "df_sales.shape"
      ],
      "execution_count": 119,
      "outputs": [
        {
          "output_type": "execute_result",
          "data": {
            "text/plain": [
              "(16277, 10)"
            ]
          },
          "metadata": {
            "tags": []
          },
          "execution_count": 119
        }
      ]
    },
    {
      "cell_type": "code",
      "metadata": {
        "colab": {
          "base_uri": "https://localhost:8080/",
          "height": 204
        },
        "id": "zZV1MbRtrC0k",
        "outputId": "e655e461-1d1f-4bb4-d03a-ab2769bd0a54"
      },
      "source": [
        "df_top_sales = df_sales.sort_values(by = ['Sales'], axis = 0, ascending = False)\r\n",
        "df_top_sales = df_top_sales.iloc[:162]\r\n",
        "df_top_sales.reset_index(inplace = True, drop = True)\r\n",
        "df_top_sales.head()"
      ],
      "execution_count": 120,
      "outputs": [
        {
          "output_type": "execute_result",
          "data": {
            "text/html": [
              "<div>\n",
              "<style scoped>\n",
              "    .dataframe tbody tr th:only-of-type {\n",
              "        vertical-align: middle;\n",
              "    }\n",
              "\n",
              "    .dataframe tbody tr th {\n",
              "        vertical-align: top;\n",
              "    }\n",
              "\n",
              "    .dataframe thead th {\n",
              "        text-align: right;\n",
              "    }\n",
              "</style>\n",
              "<table border=\"1\" class=\"dataframe\">\n",
              "  <thead>\n",
              "    <tr style=\"text-align: right;\">\n",
              "      <th></th>\n",
              "      <th>Name</th>\n",
              "      <th>Platform</th>\n",
              "      <th>Year</th>\n",
              "      <th>Genre</th>\n",
              "      <th>Publisher</th>\n",
              "      <th>NA</th>\n",
              "      <th>EU</th>\n",
              "      <th>JP</th>\n",
              "      <th>Other</th>\n",
              "      <th>Sales</th>\n",
              "    </tr>\n",
              "  </thead>\n",
              "  <tbody>\n",
              "    <tr>\n",
              "      <th>0</th>\n",
              "      <td>Wii Sports</td>\n",
              "      <td>Wii</td>\n",
              "      <td>2006</td>\n",
              "      <td>Sports</td>\n",
              "      <td>Nintendo</td>\n",
              "      <td>41.49</td>\n",
              "      <td>29.02</td>\n",
              "      <td>3.77</td>\n",
              "      <td>8.46</td>\n",
              "      <td>82.74</td>\n",
              "    </tr>\n",
              "    <tr>\n",
              "      <th>1</th>\n",
              "      <td>Super Mario Bros.</td>\n",
              "      <td>NES</td>\n",
              "      <td>1985</td>\n",
              "      <td>Platform</td>\n",
              "      <td>Nintendo</td>\n",
              "      <td>29.08</td>\n",
              "      <td>3.58</td>\n",
              "      <td>6.81</td>\n",
              "      <td>0.77</td>\n",
              "      <td>40.24</td>\n",
              "    </tr>\n",
              "    <tr>\n",
              "      <th>2</th>\n",
              "      <td>Mario Kart Wii</td>\n",
              "      <td>Wii</td>\n",
              "      <td>2008</td>\n",
              "      <td>Racing</td>\n",
              "      <td>Nintendo</td>\n",
              "      <td>15.85</td>\n",
              "      <td>12.88</td>\n",
              "      <td>3.79</td>\n",
              "      <td>3.31</td>\n",
              "      <td>35.83</td>\n",
              "    </tr>\n",
              "    <tr>\n",
              "      <th>3</th>\n",
              "      <td>Wii Sports Resort</td>\n",
              "      <td>Wii</td>\n",
              "      <td>2009</td>\n",
              "      <td>Sports</td>\n",
              "      <td>Nintendo</td>\n",
              "      <td>15.75</td>\n",
              "      <td>11.01</td>\n",
              "      <td>3.28</td>\n",
              "      <td>2.96</td>\n",
              "      <td>33.00</td>\n",
              "    </tr>\n",
              "    <tr>\n",
              "      <th>4</th>\n",
              "      <td>Pokemon Red/Pokemon Blue</td>\n",
              "      <td>GB</td>\n",
              "      <td>1996</td>\n",
              "      <td>Role-Playing</td>\n",
              "      <td>Nintendo</td>\n",
              "      <td>11.27</td>\n",
              "      <td>8.89</td>\n",
              "      <td>10.22</td>\n",
              "      <td>1.00</td>\n",
              "      <td>31.38</td>\n",
              "    </tr>\n",
              "  </tbody>\n",
              "</table>\n",
              "</div>"
            ],
            "text/plain": [
              "                       Name Platform  Year  ...     JP Other  Sales\n",
              "0                Wii Sports      Wii  2006  ...   3.77  8.46  82.74\n",
              "1         Super Mario Bros.      NES  1985  ...   6.81  0.77  40.24\n",
              "2            Mario Kart Wii      Wii  2008  ...   3.79  3.31  35.83\n",
              "3         Wii Sports Resort      Wii  2009  ...   3.28  2.96  33.00\n",
              "4  Pokemon Red/Pokemon Blue       GB  1996  ...  10.22  1.00  31.38\n",
              "\n",
              "[5 rows x 10 columns]"
            ]
          },
          "metadata": {
            "tags": []
          },
          "execution_count": 120
        }
      ]
    },
    {
      "cell_type": "code",
      "metadata": {
        "colab": {
          "base_uri": "https://localhost:8080/",
          "height": 204
        },
        "id": "UOu6ajHKZhK7",
        "outputId": "77f43d58-821a-44b2-9243-6103ad61350d"
      },
      "source": [
        "df_melt_country = df_top_sales.melt(id_vars = ['Name', 'Platform', 'Year', 'Genre', 'Publisher', 'Sales'], value_vars = ['NA', 'EU', 'JP', 'Other'])\r\n",
        "df_melt_country.columns = ['Name', 'Platform', 'Year', 'Genre', 'Publisher', 'Sales_total', 'Country', 'Sales']\r\n",
        "df_melt_country.head()"
      ],
      "execution_count": 121,
      "outputs": [
        {
          "output_type": "execute_result",
          "data": {
            "text/html": [
              "<div>\n",
              "<style scoped>\n",
              "    .dataframe tbody tr th:only-of-type {\n",
              "        vertical-align: middle;\n",
              "    }\n",
              "\n",
              "    .dataframe tbody tr th {\n",
              "        vertical-align: top;\n",
              "    }\n",
              "\n",
              "    .dataframe thead th {\n",
              "        text-align: right;\n",
              "    }\n",
              "</style>\n",
              "<table border=\"1\" class=\"dataframe\">\n",
              "  <thead>\n",
              "    <tr style=\"text-align: right;\">\n",
              "      <th></th>\n",
              "      <th>Name</th>\n",
              "      <th>Platform</th>\n",
              "      <th>Year</th>\n",
              "      <th>Genre</th>\n",
              "      <th>Publisher</th>\n",
              "      <th>Sales_total</th>\n",
              "      <th>Country</th>\n",
              "      <th>Sales</th>\n",
              "    </tr>\n",
              "  </thead>\n",
              "  <tbody>\n",
              "    <tr>\n",
              "      <th>0</th>\n",
              "      <td>Wii Sports</td>\n",
              "      <td>Wii</td>\n",
              "      <td>2006</td>\n",
              "      <td>Sports</td>\n",
              "      <td>Nintendo</td>\n",
              "      <td>82.74</td>\n",
              "      <td>NA</td>\n",
              "      <td>41.49</td>\n",
              "    </tr>\n",
              "    <tr>\n",
              "      <th>1</th>\n",
              "      <td>Super Mario Bros.</td>\n",
              "      <td>NES</td>\n",
              "      <td>1985</td>\n",
              "      <td>Platform</td>\n",
              "      <td>Nintendo</td>\n",
              "      <td>40.24</td>\n",
              "      <td>NA</td>\n",
              "      <td>29.08</td>\n",
              "    </tr>\n",
              "    <tr>\n",
              "      <th>2</th>\n",
              "      <td>Mario Kart Wii</td>\n",
              "      <td>Wii</td>\n",
              "      <td>2008</td>\n",
              "      <td>Racing</td>\n",
              "      <td>Nintendo</td>\n",
              "      <td>35.83</td>\n",
              "      <td>NA</td>\n",
              "      <td>15.85</td>\n",
              "    </tr>\n",
              "    <tr>\n",
              "      <th>3</th>\n",
              "      <td>Wii Sports Resort</td>\n",
              "      <td>Wii</td>\n",
              "      <td>2009</td>\n",
              "      <td>Sports</td>\n",
              "      <td>Nintendo</td>\n",
              "      <td>33.00</td>\n",
              "      <td>NA</td>\n",
              "      <td>15.75</td>\n",
              "    </tr>\n",
              "    <tr>\n",
              "      <th>4</th>\n",
              "      <td>Pokemon Red/Pokemon Blue</td>\n",
              "      <td>GB</td>\n",
              "      <td>1996</td>\n",
              "      <td>Role-Playing</td>\n",
              "      <td>Nintendo</td>\n",
              "      <td>31.38</td>\n",
              "      <td>NA</td>\n",
              "      <td>11.27</td>\n",
              "    </tr>\n",
              "  </tbody>\n",
              "</table>\n",
              "</div>"
            ],
            "text/plain": [
              "                       Name Platform  Year  ... Sales_total Country  Sales\n",
              "0                Wii Sports      Wii  2006  ...       82.74      NA  41.49\n",
              "1         Super Mario Bros.      NES  1985  ...       40.24      NA  29.08\n",
              "2            Mario Kart Wii      Wii  2008  ...       35.83      NA  15.85\n",
              "3         Wii Sports Resort      Wii  2009  ...       33.00      NA  15.75\n",
              "4  Pokemon Red/Pokemon Blue       GB  1996  ...       31.38      NA  11.27\n",
              "\n",
              "[5 rows x 8 columns]"
            ]
          },
          "metadata": {
            "tags": []
          },
          "execution_count": 121
        }
      ]
    },
    {
      "cell_type": "code",
      "metadata": {
        "colab": {
          "base_uri": "https://localhost:8080/"
        },
        "id": "x6SzOcrTbcRE",
        "outputId": "b2c2bef8-5438-42f3-ea05-1f770d453ab0"
      },
      "source": [
        "df_melt_country.nunique()"
      ],
      "execution_count": 122,
      "outputs": [
        {
          "output_type": "execute_result",
          "data": {
            "text/plain": [
              "Name           146\n",
              "Platform        21\n",
              "Year            30\n",
              "Genre           11\n",
              "Publisher       19\n",
              "Sales_total    159\n",
              "Country          4\n",
              "Sales          408\n",
              "dtype: int64"
            ]
          },
          "metadata": {
            "tags": []
          },
          "execution_count": 122
        }
      ]
    },
    {
      "cell_type": "code",
      "metadata": {
        "colab": {
          "base_uri": "https://localhost:8080/",
          "height": 279
        },
        "id": "Z0vC-3KZapX7",
        "outputId": "dddffd68-236f-441f-f1f8-89678281dfb7"
      },
      "source": [
        "sns.scatterplot(x = 'Year', y = 'Sales', hue = 'Country', data = df_melt_country, palette = 'Set3')\r\n",
        "sns.dark_palette('purple')\r\n",
        "plt.legend(bbox_to_anchor = (1, 1), loc = 2);"
      ],
      "execution_count": 123,
      "outputs": [
        {
          "output_type": "display_data",
          "data": {
            "image/png": "[encoded data removed]",
            "text/plain": [
              "<Figure size 432x288 with 1 Axes>"
            ]
          },
          "metadata": {
            "tags": [],
            "needs_background": "light"
          }
        }
      ]
    },
    {
      "cell_type": "code",
      "metadata": {
        "colab": {
          "base_uri": "https://localhost:8080/",
          "height": 441
        },
        "id": "_nJgWfyjgJjb",
        "outputId": "f381f45f-d2a9-4c13-a996-b41efc3746a7"
      },
      "source": [
        "g = sns.FacetGrid(data = df_melt_country, col = 'Country', palette = 'pastel', hue = 'Country', height = 2, col_wrap = 2)\r\n",
        "\r\n",
        "fig = plt.gcf()\r\n",
        "\r\n",
        "fig.set_size_inches(8, 6)\r\n",
        "\r\n",
        "g.map_dataframe(\r\n",
        "    sns.scatterplot,\r\n",
        "    x = 'Year',\r\n",
        "    y = 'Sales',\r\n",
        "    data = df_melt_country,\r\n",
        "    palette = 'pastel'\r\n",
        "    )\r\n",
        "g.add_legend();"
      ],
      "execution_count": 124,
      "outputs": [
        {
          "output_type": "display_data",
          "data": {
            "image/png": "[encoded data removed]",
            "text/plain": [
              "<Figure size 640.25x432 with 4 Axes>"
            ]
          },
          "metadata": {
            "tags": [],
            "needs_background": "light"
          }
        }
      ]
    },
    {
      "cell_type": "markdown",
      "metadata": {
        "id": "sRHyoBItbwm0"
      },
      "source": [
        "✍️ 북미에서 Sales가 높게 형성되는 경향이 있다.\r\n",
        "\r\n",
        "-> 북미에서 잘 팔리면 Sales가 전체적으로 높다?(correlation between NA and Total Sales)"
      ]
    },
    {
      "cell_type": "code",
      "metadata": {
        "id": "ZTFY1UOK73ws",
        "colab": {
          "base_uri": "https://localhost:8080/",
          "height": 142
        },
        "outputId": "618a1207-2d13-4afb-ccf3-aabc23428efc"
      },
      "source": [
        "df_sales1 = df\r\n",
        "df_sales1['Sales'] = df_sales1['NA'] + df_sales1['EU'] + df_sales1['JP'] + df_sales1['Other']\r\n",
        "df_sales1 = df_sales1[['NA', 'Sales', 'Year']]\r\n",
        "df_sales1.corr()"
      ],
      "execution_count": 125,
      "outputs": [
        {
          "output_type": "execute_result",
          "data": {
            "text/html": [
              "<div>\n",
              "<style scoped>\n",
              "    .dataframe tbody tr th:only-of-type {\n",
              "        vertical-align: middle;\n",
              "    }\n",
              "\n",
              "    .dataframe tbody tr th {\n",
              "        vertical-align: top;\n",
              "    }\n",
              "\n",
              "    .dataframe thead th {\n",
              "        text-align: right;\n",
              "    }\n",
              "</style>\n",
              "<table border=\"1\" class=\"dataframe\">\n",
              "  <thead>\n",
              "    <tr style=\"text-align: right;\">\n",
              "      <th></th>\n",
              "      <th>NA</th>\n",
              "      <th>Sales</th>\n",
              "      <th>Year</th>\n",
              "    </tr>\n",
              "  </thead>\n",
              "  <tbody>\n",
              "    <tr>\n",
              "      <th>NA</th>\n",
              "      <td>1.000000</td>\n",
              "      <td>0.941654</td>\n",
              "      <td>-0.091934</td>\n",
              "    </tr>\n",
              "    <tr>\n",
              "      <th>Sales</th>\n",
              "      <td>0.941654</td>\n",
              "      <td>1.000000</td>\n",
              "      <td>-0.075770</td>\n",
              "    </tr>\n",
              "    <tr>\n",
              "      <th>Year</th>\n",
              "      <td>-0.091934</td>\n",
              "      <td>-0.075770</td>\n",
              "      <td>1.000000</td>\n",
              "    </tr>\n",
              "  </tbody>\n",
              "</table>\n",
              "</div>"
            ],
            "text/plain": [
              "             NA     Sales      Year\n",
              "NA     1.000000  0.941654 -0.091934\n",
              "Sales  0.941654  1.000000 -0.075770\n",
              "Year  -0.091934 -0.075770  1.000000"
            ]
          },
          "metadata": {
            "tags": []
          },
          "execution_count": 125
        }
      ]
    },
    {
      "cell_type": "markdown",
      "metadata": {
        "id": "b5R5pRGH8q_K"
      },
      "source": [
        "✍️ NA Sales와 Total Sales의 상관관계가 높다."
      ]
    },
    {
      "cell_type": "code",
      "metadata": {
        "id": "oncihONv-7JD",
        "colab": {
          "base_uri": "https://localhost:8080/",
          "height": 319
        },
        "outputId": "bdd526e4-c73e-4d25-f4dd-449bbae4c7b2"
      },
      "source": [
        "plt.figure(figsize = (10, 4))\r\n",
        "sns.set_palette('pastel')\r\n",
        "sns.lineplot(x = 'Year', y = 'Sales', data = df_sales1, label = 'Sales', color = '#c2d1e5', ci = 0)\r\n",
        "sns.lineplot(x = 'Year', y = 'NA', data = df_sales1, label = 'NA', color = '#fe793d', ci = 0)\r\n",
        "plt.title('Sales by Year', fontweight = 'bold', fontsize = 20, pad = 20)\r\n",
        "plt.legend()\r\n",
        "plt.xlabel('Year', fontsize = 15)\r\n",
        "plt.ylabel('Sales', fontsize = 15);"
      ],
      "execution_count": 126,
      "outputs": [
        {
          "output_type": "display_data",
          "data": {
            "image/png": "[encoded data removed]",
            "text/plain": [
              "<Figure size 720x288 with 1 Axes>"
            ]
          },
          "metadata": {
            "tags": [],
            "needs_background": "light"
          }
        }
      ]
    },
    {
      "cell_type": "code",
      "metadata": {
        "colab": {
          "base_uri": "https://localhost:8080/"
        },
        "id": "m7MxhMskzwmm",
        "outputId": "7b64f636-2700-4c21-e96b-eb692d28012d"
      },
      "source": [
        "df_top_sales['Year'].value_counts().head()"
      ],
      "execution_count": 127,
      "outputs": [
        {
          "output_type": "execute_result",
          "data": {
            "text/plain": [
              "2011    13\n",
              "2010    13\n",
              "2009    13\n",
              "2008    10\n",
              "2007    10\n",
              "Name: Year, dtype: int64"
            ]
          },
          "metadata": {
            "tags": []
          },
          "execution_count": 127
        }
      ]
    },
    {
      "cell_type": "code",
      "metadata": {
        "colab": {
          "base_uri": "https://localhost:8080/",
          "height": 279
        },
        "id": "N5PyD9nT2Hl-",
        "outputId": "de40cfb2-a370-422f-9139-b306bb74024b"
      },
      "source": [
        "sns.scatterplot(x = 'Year', y = 'Sales', hue = 'Year', data = df_top_sales)\r\n",
        "sns.dark_palette('purple')\r\n",
        "plt.legend(bbox_to_anchor = (1, 1), loc = 2);"
      ],
      "execution_count": 128,
      "outputs": [
        {
          "output_type": "display_data",
          "data": {
            "image/png": "[encoded data removed]",
            "text/plain": [
              "<Figure size 432x288 with 1 Axes>"
            ]
          },
          "metadata": {
            "tags": [],
            "needs_background": "light"
          }
        }
      ]
    },
    {
      "cell_type": "markdown",
      "metadata": {
        "id": "jvjRNfdr1FO2"
      },
      "source": [
        "✍️ 2009 - 2011년도 사이의 게임들이 top1%매출에 많이 들어있다.(cumulative Sales때문인듯 하다.)"
      ]
    },
    {
      "cell_type": "code",
      "metadata": {
        "colab": {
          "base_uri": "https://localhost:8080/"
        },
        "id": "or0DQTDuz3ne",
        "outputId": "f4c0e34a-3ef1-4b05-823c-0019637db827"
      },
      "source": [
        "df_top_sales['Genre'].value_counts()"
      ],
      "execution_count": 129,
      "outputs": [
        {
          "output_type": "execute_result",
          "data": {
            "text/plain": [
              "Shooter         32\n",
              "Action          28\n",
              "Platform        24\n",
              "Role-Playing    22\n",
              "Racing          16\n",
              "Sports          11\n",
              "Misc            11\n",
              "Fighting         7\n",
              "Simulation       5\n",
              "Puzzle           4\n",
              "Adventure        2\n",
              "Name: Genre, dtype: int64"
            ]
          },
          "metadata": {
            "tags": []
          },
          "execution_count": 129
        }
      ]
    },
    {
      "cell_type": "code",
      "metadata": {
        "colab": {
          "base_uri": "https://localhost:8080/",
          "height": 279
        },
        "id": "qVgIFzJy4Cth",
        "outputId": "0cfe8739-385d-4895-cdd7-fbe1049719bc"
      },
      "source": [
        "sns.scatterplot(x = 'Genre', y = 'Sales', hue = 'Genre', data = df_top_sales)\r\n",
        "plt.legend(bbox_to_anchor = (1, 1), loc = 2);"
      ],
      "execution_count": 130,
      "outputs": [
        {
          "output_type": "display_data",
          "data": {
            "image/png": "[encoded data removed]",
            "text/plain": [
              "<Figure size 432x288 with 1 Axes>"
            ]
          },
          "metadata": {
            "tags": [],
            "needs_background": "light"
          }
        }
      ]
    },
    {
      "cell_type": "markdown",
      "metadata": {
        "id": "rTJAKIqd1Wu-"
      },
      "source": [
        "✍️ 장르가 Shooter, Action, Platform, Role-Playing인 게임들이 top1%매출에 많이 들어있다.\r\n",
        "\r\n",
        "장르가 각각 Sports, Platform, Racing인 게임이 개별 매출top3다.\r\n",
        "\r\n",
        "(트렌드에서 Action이 조금 압도적이지만 Action과 Sports가 1위를 다투고 있었다.)"
      ]
    },
    {
      "cell_type": "code",
      "metadata": {
        "colab": {
          "base_uri": "https://localhost:8080/"
        },
        "id": "k6N1VsL7z7Am",
        "outputId": "cd673f07-d6d9-4b7a-f38c-dcea54a250bb"
      },
      "source": [
        "df_top_sales['Platform'].value_counts()"
      ],
      "execution_count": 131,
      "outputs": [
        {
          "output_type": "execute_result",
          "data": {
            "text/plain": [
              "X360       24\n",
              "PS3        23\n",
              "Wii        20\n",
              "DS         16\n",
              "PS         12\n",
              "PS2        11\n",
              "PS4         8\n",
              "GB          7\n",
              "NES         6\n",
              "GBA         6\n",
              "3DS         6\n",
              "N64         5\n",
              "SNES        5\n",
              "GC          3\n",
              "XB          2\n",
              "PSP         2\n",
              "PC          2\n",
              "WiiU        1\n",
              "GEN         1\n",
              "XOne        1\n",
              "Unknown     1\n",
              "Name: Platform, dtype: int64"
            ]
          },
          "metadata": {
            "tags": []
          },
          "execution_count": 131
        }
      ]
    },
    {
      "cell_type": "code",
      "metadata": {
        "colab": {
          "base_uri": "https://localhost:8080/",
          "height": 354
        },
        "id": "UgB6i0DKYRcc",
        "outputId": "67218916-a3c5-4110-8a55-bf84e3b6f2ec"
      },
      "source": [
        "sns.scatterplot(x = 'Platform', y = 'Sales', hue = 'Platform', data = df_top_sales)\r\n",
        "plt.legend(bbox_to_anchor = (1, 1), loc = 2);"
      ],
      "execution_count": 132,
      "outputs": [
        {
          "output_type": "display_data",
          "data": {
            "image/png": "[encoded data removed]",
            "text/plain": [
              "<Figure size 432x288 with 1 Axes>"
            ]
          },
          "metadata": {
            "tags": [],
            "needs_background": "light"
          }
        }
      ]
    },
    {
      "cell_type": "code",
      "metadata": {
        "colab": {
          "base_uri": "https://localhost:8080/",
          "height": 354
        },
        "id": "7eBEuNlaYc6S",
        "outputId": "4d1fbe91-0828-4042-ec94-76ea0c5fbf2c"
      },
      "source": [
        "sns.scatterplot(x = 'Year', y = 'Platform', hue = 'Platform', data = df_top_sales)\r\n",
        "plt.legend(bbox_to_anchor = (1, 1), loc = 2);"
      ],
      "execution_count": 133,
      "outputs": [
        {
          "output_type": "display_data",
          "data": {
            "image/png": "[encoded data removed]",
            "text/plain": [
              "<Figure size 432x288 with 1 Axes>"
            ]
          },
          "metadata": {
            "tags": [],
            "needs_background": "light"
          }
        }
      ]
    },
    {
      "cell_type": "markdown",
      "metadata": {
        "id": "hW-CQscZ1mPv"
      },
      "source": [
        "✍️ Platform을 X360, PS3, Wii을 쓰는 게임들이 top1%매출에 많이 들어있다.\r\n",
        "\r\n",
        "(트렌드에서 알아보았던 PS1, 2, 4또한 top1%에 많이 들어있다.)"
      ]
    },
    {
      "cell_type": "code",
      "metadata": {
        "colab": {
          "base_uri": "https://localhost:8080/"
        },
        "id": "UQcL9ITB0ENX",
        "outputId": "ab3fb57a-9864-4b12-b53c-3a47c15d7b31"
      },
      "source": [
        "df_top_sales['Publisher'].value_counts()"
      ],
      "execution_count": 134,
      "outputs": [
        {
          "output_type": "execute_result",
          "data": {
            "text/plain": [
              "Nintendo                                  66\n",
              "Activision                                18\n",
              "Sony Computer Entertainment               16\n",
              "Microsoft Game Studios                    13\n",
              "Electronic Arts                           12\n",
              "Take-Two Interactive                      11\n",
              "Ubisoft                                    7\n",
              "Bethesda Softworks                         3\n",
              "Konami Digital Entertainment               3\n",
              "Sega                                       2\n",
              "505 Games                                  2\n",
              "Capcom                                     2\n",
              "GT Interactive                             1\n",
              "Virgin Interactive                         1\n",
              "SquareSoft                                 1\n",
              "LucasArts                                  1\n",
              "Sony Computer Entertainment Europe         1\n",
              "Atari                                      1\n",
              "Warner Bros. Interactive Entertainment     1\n",
              "Name: Publisher, dtype: int64"
            ]
          },
          "metadata": {
            "tags": []
          },
          "execution_count": 134
        }
      ]
    },
    {
      "cell_type": "code",
      "metadata": {
        "colab": {
          "base_uri": "https://localhost:8080/",
          "height": 324
        },
        "id": "z8B01b2wYqwr",
        "outputId": "4bdddb73-f4f9-4fa5-db1f-6f3a50bf3506"
      },
      "source": [
        "sns.scatterplot(x = 'Publisher', y = 'Sales', hue = 'Publisher', data = df_top_sales)\r\n",
        "plt.legend(bbox_to_anchor = (1, 1), loc = 2);"
      ],
      "execution_count": 135,
      "outputs": [
        {
          "output_type": "display_data",
          "data": {
            "image/png": "[encoded data removed]",
            "text/plain": [
              "<Figure size 432x288 with 1 Axes>"
            ]
          },
          "metadata": {
            "tags": [],
            "needs_background": "light"
          }
        }
      ]
    },
    {
      "cell_type": "code",
      "metadata": {
        "colab": {
          "base_uri": "https://localhost:8080/",
          "height": 324
        },
        "id": "YVADIicbYyoT",
        "outputId": "8a4d27be-57ba-475f-ed16-d1c1f575180c"
      },
      "source": [
        "sns.scatterplot(x = 'Year', y = 'Publisher', hue = 'Publisher', data = df_top_sales)\r\n",
        "plt.legend(bbox_to_anchor = (1, 1), loc = 2);"
      ],
      "execution_count": 136,
      "outputs": [
        {
          "output_type": "display_data",
          "data": {
            "image/png": "[encoded data removed]",
            "text/plain": [
              "<Figure size 432x288 with 1 Axes>"
            ]
          },
          "metadata": {
            "tags": [],
            "needs_background": "light"
          }
        }
      ]
    },
    {
      "cell_type": "markdown",
      "metadata": {
        "id": "Als3KokI1y6N"
      },
      "source": [
        "✍️ Nintendo가 top1%매출에서도 많은 비율을 차지하고 있으며 꾸준히 매출을 내고 있다.\r\n",
        "\r\n",
        "벤치마킹이 필수라는 것을 알 수 있다."
      ]
    },
    {
      "cell_type": "markdown",
      "metadata": {
        "id": "EPCCbygYtd6H"
      },
      "source": [
        "####💡 최근의 데이터가 충분하지 않아 아쉽지만, 마지막 결론을 짓자면, 다음 분기에는 PS5를 플랫폼으로 삼는 Action, Sports장르의 게임을 설계하는 것이 좋을 것 같습니다. 또한, 게임을 설계하는 과정에서 닌텐도사의 게임 트렌드를 잘 파악하는 것이 중요하다고 사료되며, 최근 북미에서 매출이 높은 게임들을 참고하는 것도 좋을 것 같습니다."
      ]
    }
  ]
}